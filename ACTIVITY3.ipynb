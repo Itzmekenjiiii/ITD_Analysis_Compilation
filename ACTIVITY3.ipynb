{
 "cells": [
  {
   "cell_type": "markdown",
   "id": "54a8266d-1138-4869-bf0c-d3ada8395a04",
   "metadata": {
    "jp-MarkdownHeadingCollapsed": true
   },
   "source": [
    "<h1>United Kingdom Road Accident Data Analysis</h1>"
   ]
  },
  {
   "cell_type": "code",
   "execution_count": 1,
   "id": "7ad83e03-4785-4560-87de-f957b54d2ea8",
   "metadata": {},
   "outputs": [],
   "source": [
    "import numpy as np\n",
    "import pandas as pd\n",
    "import seaborn as sns\n",
    "import matplotlib.pyplot as plt\n",
    "from scipy.stats import f_oneway\n",
    "import warnings"
   ]
  },
  {
   "cell_type": "code",
   "execution_count": 2,
   "id": "e31a11ae-06bb-4bf9-b449-a8e2e51c0859",
   "metadata": {},
   "outputs": [],
   "source": [
    "warnings.filterwarnings('ignore')"
   ]
  },
  {
   "cell_type": "code",
   "execution_count": 3,
   "id": "669d559b-4116-460a-bf47-8430ba591ed9",
   "metadata": {},
   "outputs": [],
   "source": [
    "accidents = pd.read_csv('datasets\\\\accident_data.csv')"
   ]
  },
  {
   "cell_type": "code",
   "execution_count": 4,
   "id": "bde7656a-381c-42e1-9e03-fdb317646b7e",
   "metadata": {
    "scrolled": true
   },
   "outputs": [
    {
     "data": {
      "text/html": [
       "<div>\n",
       "<style scoped>\n",
       "    .dataframe tbody tr th:only-of-type {\n",
       "        vertical-align: middle;\n",
       "    }\n",
       "\n",
       "    .dataframe tbody tr th {\n",
       "        vertical-align: top;\n",
       "    }\n",
       "\n",
       "    .dataframe thead th {\n",
       "        text-align: right;\n",
       "    }\n",
       "</style>\n",
       "<table border=\"1\" class=\"dataframe\">\n",
       "  <thead>\n",
       "    <tr style=\"text-align: right;\">\n",
       "      <th></th>\n",
       "      <th>Index</th>\n",
       "      <th>Accident_Severity</th>\n",
       "      <th>Accident Date</th>\n",
       "      <th>Latitude</th>\n",
       "      <th>Light_Conditions</th>\n",
       "      <th>District Area</th>\n",
       "      <th>Longitude</th>\n",
       "      <th>Number_of_Casualties</th>\n",
       "      <th>Number_of_Vehicles</th>\n",
       "      <th>Road_Surface_Conditions</th>\n",
       "      <th>Road_Type</th>\n",
       "      <th>Urban_or_Rural_Area</th>\n",
       "      <th>Weather_Conditions</th>\n",
       "      <th>Vehicle_Type</th>\n",
       "    </tr>\n",
       "  </thead>\n",
       "  <tbody>\n",
       "    <tr>\n",
       "      <th>0</th>\n",
       "      <td>200701BS64157</td>\n",
       "      <td>Serious</td>\n",
       "      <td>5/6/2019</td>\n",
       "      <td>51.506187</td>\n",
       "      <td>Darkness - lights lit</td>\n",
       "      <td>Kensington and Chelsea</td>\n",
       "      <td>-0.209082</td>\n",
       "      <td>1</td>\n",
       "      <td>2</td>\n",
       "      <td>Dry</td>\n",
       "      <td>Single carriageway</td>\n",
       "      <td>Urban</td>\n",
       "      <td>Fine no high winds</td>\n",
       "      <td>Car</td>\n",
       "    </tr>\n",
       "    <tr>\n",
       "      <th>1</th>\n",
       "      <td>200701BS65737</td>\n",
       "      <td>Serious</td>\n",
       "      <td>2/7/2019</td>\n",
       "      <td>51.495029</td>\n",
       "      <td>Daylight</td>\n",
       "      <td>Kensington and Chelsea</td>\n",
       "      <td>-0.173647</td>\n",
       "      <td>1</td>\n",
       "      <td>2</td>\n",
       "      <td>Wet or damp</td>\n",
       "      <td>Single carriageway</td>\n",
       "      <td>Urban</td>\n",
       "      <td>Raining no high winds</td>\n",
       "      <td>Car</td>\n",
       "    </tr>\n",
       "    <tr>\n",
       "      <th>2</th>\n",
       "      <td>200701BS66127</td>\n",
       "      <td>Serious</td>\n",
       "      <td>26-08-2019</td>\n",
       "      <td>51.517715</td>\n",
       "      <td>Darkness - lighting unknown</td>\n",
       "      <td>Kensington and Chelsea</td>\n",
       "      <td>-0.210215</td>\n",
       "      <td>1</td>\n",
       "      <td>3</td>\n",
       "      <td>Dry</td>\n",
       "      <td>NaN</td>\n",
       "      <td>Urban</td>\n",
       "      <td>NaN</td>\n",
       "      <td>Taxi/Private hire car</td>\n",
       "    </tr>\n",
       "    <tr>\n",
       "      <th>3</th>\n",
       "      <td>200701BS66128</td>\n",
       "      <td>Serious</td>\n",
       "      <td>16-08-2019</td>\n",
       "      <td>51.495478</td>\n",
       "      <td>Daylight</td>\n",
       "      <td>Kensington and Chelsea</td>\n",
       "      <td>-0.202731</td>\n",
       "      <td>1</td>\n",
       "      <td>4</td>\n",
       "      <td>Dry</td>\n",
       "      <td>Single carriageway</td>\n",
       "      <td>Urban</td>\n",
       "      <td>Fine no high winds</td>\n",
       "      <td>Bus or coach (17 or more pass seats)</td>\n",
       "    </tr>\n",
       "    <tr>\n",
       "      <th>4</th>\n",
       "      <td>200701BS66837</td>\n",
       "      <td>Slight</td>\n",
       "      <td>3/9/2019</td>\n",
       "      <td>51.488576</td>\n",
       "      <td>Darkness - lights lit</td>\n",
       "      <td>Kensington and Chelsea</td>\n",
       "      <td>-0.192487</td>\n",
       "      <td>1</td>\n",
       "      <td>2</td>\n",
       "      <td>Dry</td>\n",
       "      <td>NaN</td>\n",
       "      <td>Urban</td>\n",
       "      <td>NaN</td>\n",
       "      <td>Other vehicle</td>\n",
       "    </tr>\n",
       "    <tr>\n",
       "      <th>...</th>\n",
       "      <td>...</td>\n",
       "      <td>...</td>\n",
       "      <td>...</td>\n",
       "      <td>...</td>\n",
       "      <td>...</td>\n",
       "      <td>...</td>\n",
       "      <td>...</td>\n",
       "      <td>...</td>\n",
       "      <td>...</td>\n",
       "      <td>...</td>\n",
       "      <td>...</td>\n",
       "      <td>...</td>\n",
       "      <td>...</td>\n",
       "      <td>...</td>\n",
       "    </tr>\n",
       "    <tr>\n",
       "      <th>660674</th>\n",
       "      <td>201091NM01760</td>\n",
       "      <td>Slight</td>\n",
       "      <td>18-02-2022</td>\n",
       "      <td>57.374005</td>\n",
       "      <td>Daylight</td>\n",
       "      <td>Highland</td>\n",
       "      <td>-3.467828</td>\n",
       "      <td>2</td>\n",
       "      <td>1</td>\n",
       "      <td>Dry</td>\n",
       "      <td>Single carriageway</td>\n",
       "      <td>Rural</td>\n",
       "      <td>Fine no high winds</td>\n",
       "      <td>Car</td>\n",
       "    </tr>\n",
       "    <tr>\n",
       "      <th>660675</th>\n",
       "      <td>201091NM01881</td>\n",
       "      <td>Slight</td>\n",
       "      <td>21-02-2022</td>\n",
       "      <td>57.232273</td>\n",
       "      <td>Darkness - no lighting</td>\n",
       "      <td>Highland</td>\n",
       "      <td>-3.809281</td>\n",
       "      <td>1</td>\n",
       "      <td>1</td>\n",
       "      <td>Frost or ice</td>\n",
       "      <td>Single carriageway</td>\n",
       "      <td>Rural</td>\n",
       "      <td>Fine no high winds</td>\n",
       "      <td>Car</td>\n",
       "    </tr>\n",
       "    <tr>\n",
       "      <th>660676</th>\n",
       "      <td>201091NM01935</td>\n",
       "      <td>Slight</td>\n",
       "      <td>23-02-2022</td>\n",
       "      <td>57.585044</td>\n",
       "      <td>Daylight</td>\n",
       "      <td>Highland</td>\n",
       "      <td>-3.862727</td>\n",
       "      <td>1</td>\n",
       "      <td>3</td>\n",
       "      <td>Frost or ice</td>\n",
       "      <td>Single carriageway</td>\n",
       "      <td>Rural</td>\n",
       "      <td>Fine no high winds</td>\n",
       "      <td>Car</td>\n",
       "    </tr>\n",
       "    <tr>\n",
       "      <th>660677</th>\n",
       "      <td>201091NM01964</td>\n",
       "      <td>Serious</td>\n",
       "      <td>23-02-2022</td>\n",
       "      <td>57.214898</td>\n",
       "      <td>Darkness - no lighting</td>\n",
       "      <td>Highland</td>\n",
       "      <td>-3.823997</td>\n",
       "      <td>1</td>\n",
       "      <td>2</td>\n",
       "      <td>Wet or damp</td>\n",
       "      <td>Single carriageway</td>\n",
       "      <td>Rural</td>\n",
       "      <td>Fine no high winds</td>\n",
       "      <td>Motorcycle over 500cc</td>\n",
       "    </tr>\n",
       "    <tr>\n",
       "      <th>660678</th>\n",
       "      <td>201091NM02142</td>\n",
       "      <td>Serious</td>\n",
       "      <td>28-02-2022</td>\n",
       "      <td>57.575210</td>\n",
       "      <td>Daylight</td>\n",
       "      <td>Highland</td>\n",
       "      <td>-3.895673</td>\n",
       "      <td>1</td>\n",
       "      <td>1</td>\n",
       "      <td>Wet or damp</td>\n",
       "      <td>Dual carriageway</td>\n",
       "      <td>Rural</td>\n",
       "      <td>Snowing no high winds</td>\n",
       "      <td>Car</td>\n",
       "    </tr>\n",
       "  </tbody>\n",
       "</table>\n",
       "<p>660679 rows × 14 columns</p>\n",
       "</div>"
      ],
      "text/plain": [
       "                Index Accident_Severity Accident Date   Latitude  \\\n",
       "0       200701BS64157           Serious      5/6/2019  51.506187   \n",
       "1       200701BS65737           Serious      2/7/2019  51.495029   \n",
       "2       200701BS66127           Serious    26-08-2019  51.517715   \n",
       "3       200701BS66128           Serious    16-08-2019  51.495478   \n",
       "4       200701BS66837            Slight      3/9/2019  51.488576   \n",
       "...               ...               ...           ...        ...   \n",
       "660674  201091NM01760            Slight    18-02-2022  57.374005   \n",
       "660675  201091NM01881            Slight    21-02-2022  57.232273   \n",
       "660676  201091NM01935            Slight    23-02-2022  57.585044   \n",
       "660677  201091NM01964           Serious    23-02-2022  57.214898   \n",
       "660678  201091NM02142           Serious    28-02-2022  57.575210   \n",
       "\n",
       "                   Light_Conditions           District Area  Longitude  \\\n",
       "0             Darkness - lights lit  Kensington and Chelsea  -0.209082   \n",
       "1                          Daylight  Kensington and Chelsea  -0.173647   \n",
       "2       Darkness - lighting unknown  Kensington and Chelsea  -0.210215   \n",
       "3                          Daylight  Kensington and Chelsea  -0.202731   \n",
       "4             Darkness - lights lit  Kensington and Chelsea  -0.192487   \n",
       "...                             ...                     ...        ...   \n",
       "660674                     Daylight                Highland  -3.467828   \n",
       "660675       Darkness - no lighting                Highland  -3.809281   \n",
       "660676                     Daylight                Highland  -3.862727   \n",
       "660677       Darkness - no lighting                Highland  -3.823997   \n",
       "660678                     Daylight                Highland  -3.895673   \n",
       "\n",
       "        Number_of_Casualties  Number_of_Vehicles Road_Surface_Conditions  \\\n",
       "0                          1                   2                     Dry   \n",
       "1                          1                   2             Wet or damp   \n",
       "2                          1                   3                     Dry   \n",
       "3                          1                   4                     Dry   \n",
       "4                          1                   2                     Dry   \n",
       "...                      ...                 ...                     ...   \n",
       "660674                     2                   1                     Dry   \n",
       "660675                     1                   1            Frost or ice   \n",
       "660676                     1                   3            Frost or ice   \n",
       "660677                     1                   2             Wet or damp   \n",
       "660678                     1                   1             Wet or damp   \n",
       "\n",
       "                 Road_Type Urban_or_Rural_Area     Weather_Conditions  \\\n",
       "0       Single carriageway               Urban     Fine no high winds   \n",
       "1       Single carriageway               Urban  Raining no high winds   \n",
       "2                      NaN               Urban                    NaN   \n",
       "3       Single carriageway               Urban     Fine no high winds   \n",
       "4                      NaN               Urban                    NaN   \n",
       "...                    ...                 ...                    ...   \n",
       "660674  Single carriageway               Rural     Fine no high winds   \n",
       "660675  Single carriageway               Rural     Fine no high winds   \n",
       "660676  Single carriageway               Rural     Fine no high winds   \n",
       "660677  Single carriageway               Rural     Fine no high winds   \n",
       "660678    Dual carriageway               Rural  Snowing no high winds   \n",
       "\n",
       "                                Vehicle_Type  \n",
       "0                                        Car  \n",
       "1                                        Car  \n",
       "2                      Taxi/Private hire car  \n",
       "3       Bus or coach (17 or more pass seats)  \n",
       "4                              Other vehicle  \n",
       "...                                      ...  \n",
       "660674                                   Car  \n",
       "660675                                   Car  \n",
       "660676                                   Car  \n",
       "660677                 Motorcycle over 500cc  \n",
       "660678                                   Car  \n",
       "\n",
       "[660679 rows x 14 columns]"
      ]
     },
     "execution_count": 4,
     "metadata": {},
     "output_type": "execute_result"
    }
   ],
   "source": [
    "accidents"
   ]
  },
  {
   "cell_type": "code",
   "execution_count": 5,
   "id": "e5ebd36f-916d-479d-a31f-99f83807b860",
   "metadata": {},
   "outputs": [
    {
     "name": "stdout",
     "output_type": "stream",
     "text": [
      "<class 'pandas.core.frame.DataFrame'>\n",
      "RangeIndex: 660679 entries, 0 to 660678\n",
      "Data columns (total 14 columns):\n",
      " #   Column                   Non-Null Count   Dtype  \n",
      "---  ------                   --------------   -----  \n",
      " 0   Index                    660679 non-null  object \n",
      " 1   Accident_Severity        660679 non-null  object \n",
      " 2   Accident Date            660679 non-null  object \n",
      " 3   Latitude                 660654 non-null  float64\n",
      " 4   Light_Conditions         660679 non-null  object \n",
      " 5   District Area            660679 non-null  object \n",
      " 6   Longitude                660653 non-null  float64\n",
      " 7   Number_of_Casualties     660679 non-null  int64  \n",
      " 8   Number_of_Vehicles       660679 non-null  int64  \n",
      " 9   Road_Surface_Conditions  659953 non-null  object \n",
      " 10  Road_Type                656159 non-null  object \n",
      " 11  Urban_or_Rural_Area      660664 non-null  object \n",
      " 12  Weather_Conditions       646551 non-null  object \n",
      " 13  Vehicle_Type             660679 non-null  object \n",
      "dtypes: float64(2), int64(2), object(10)\n",
      "memory usage: 70.6+ MB\n"
     ]
    }
   ],
   "source": [
    "accidents.info()"
   ]
  },
  {
   "cell_type": "code",
   "execution_count": 6,
   "id": "d64e96bc-ccb8-40a7-a66c-b0ac0988302d",
   "metadata": {},
   "outputs": [
    {
     "data": {
      "text/html": [
       "<div>\n",
       "<style scoped>\n",
       "    .dataframe tbody tr th:only-of-type {\n",
       "        vertical-align: middle;\n",
       "    }\n",
       "\n",
       "    .dataframe tbody tr th {\n",
       "        vertical-align: top;\n",
       "    }\n",
       "\n",
       "    .dataframe thead th {\n",
       "        text-align: right;\n",
       "    }\n",
       "</style>\n",
       "<table border=\"1\" class=\"dataframe\">\n",
       "  <thead>\n",
       "    <tr style=\"text-align: right;\">\n",
       "      <th></th>\n",
       "      <th>Latitude</th>\n",
       "      <th>Longitude</th>\n",
       "      <th>Number_of_Casualties</th>\n",
       "      <th>Number_of_Vehicles</th>\n",
       "    </tr>\n",
       "  </thead>\n",
       "  <tbody>\n",
       "    <tr>\n",
       "      <th>count</th>\n",
       "      <td>660654.000000</td>\n",
       "      <td>660653.000000</td>\n",
       "      <td>660679.000000</td>\n",
       "      <td>660679.000000</td>\n",
       "    </tr>\n",
       "    <tr>\n",
       "      <th>mean</th>\n",
       "      <td>52.553866</td>\n",
       "      <td>-1.431210</td>\n",
       "      <td>1.357040</td>\n",
       "      <td>1.831255</td>\n",
       "    </tr>\n",
       "    <tr>\n",
       "      <th>std</th>\n",
       "      <td>1.406922</td>\n",
       "      <td>1.383330</td>\n",
       "      <td>0.824847</td>\n",
       "      <td>0.715269</td>\n",
       "    </tr>\n",
       "    <tr>\n",
       "      <th>min</th>\n",
       "      <td>49.914430</td>\n",
       "      <td>-7.516225</td>\n",
       "      <td>1.000000</td>\n",
       "      <td>1.000000</td>\n",
       "    </tr>\n",
       "    <tr>\n",
       "      <th>25%</th>\n",
       "      <td>51.490690</td>\n",
       "      <td>-2.332291</td>\n",
       "      <td>1.000000</td>\n",
       "      <td>1.000000</td>\n",
       "    </tr>\n",
       "    <tr>\n",
       "      <th>50%</th>\n",
       "      <td>52.315641</td>\n",
       "      <td>-1.411667</td>\n",
       "      <td>1.000000</td>\n",
       "      <td>2.000000</td>\n",
       "    </tr>\n",
       "    <tr>\n",
       "      <th>75%</th>\n",
       "      <td>53.453452</td>\n",
       "      <td>-0.232869</td>\n",
       "      <td>1.000000</td>\n",
       "      <td>2.000000</td>\n",
       "    </tr>\n",
       "    <tr>\n",
       "      <th>max</th>\n",
       "      <td>60.757544</td>\n",
       "      <td>1.762010</td>\n",
       "      <td>68.000000</td>\n",
       "      <td>32.000000</td>\n",
       "    </tr>\n",
       "  </tbody>\n",
       "</table>\n",
       "</div>"
      ],
      "text/plain": [
       "            Latitude      Longitude  Number_of_Casualties  Number_of_Vehicles\n",
       "count  660654.000000  660653.000000         660679.000000       660679.000000\n",
       "mean       52.553866      -1.431210              1.357040            1.831255\n",
       "std         1.406922       1.383330              0.824847            0.715269\n",
       "min        49.914430      -7.516225              1.000000            1.000000\n",
       "25%        51.490690      -2.332291              1.000000            1.000000\n",
       "50%        52.315641      -1.411667              1.000000            2.000000\n",
       "75%        53.453452      -0.232869              1.000000            2.000000\n",
       "max        60.757544       1.762010             68.000000           32.000000"
      ]
     },
     "execution_count": 6,
     "metadata": {},
     "output_type": "execute_result"
    }
   ],
   "source": [
    "accidents.describe()"
   ]
  },
  {
   "cell_type": "code",
   "execution_count": 7,
   "id": "642edb3c-2452-4488-9c4f-0a0b48356fc1",
   "metadata": {},
   "outputs": [
    {
     "data": {
      "text/plain": [
       "Index                          0\n",
       "Accident_Severity              0\n",
       "Accident Date                  0\n",
       "Latitude                      25\n",
       "Light_Conditions               0\n",
       "District Area                  0\n",
       "Longitude                     26\n",
       "Number_of_Casualties           0\n",
       "Number_of_Vehicles             0\n",
       "Road_Surface_Conditions      726\n",
       "Road_Type                   4520\n",
       "Urban_or_Rural_Area           15\n",
       "Weather_Conditions         14128\n",
       "Vehicle_Type                   0\n",
       "dtype: int64"
      ]
     },
     "execution_count": 7,
     "metadata": {},
     "output_type": "execute_result"
    }
   ],
   "source": [
    "accidents.isnull().sum()"
   ]
  },
  {
   "cell_type": "code",
   "execution_count": 8,
   "id": "162c260a-9dc4-4bd3-b8a1-ded7886d7b7f",
   "metadata": {},
   "outputs": [],
   "source": [
    "accidents['Latitude'] = accidents['Latitude'].fillna(accidents['Latitude'].mode()[0])"
   ]
  },
  {
   "cell_type": "code",
   "execution_count": 9,
   "id": "75d70819-43d2-437d-949f-85926c9cbb4e",
   "metadata": {},
   "outputs": [],
   "source": [
    "accidents['Longitude'] = accidents['Longitude'].fillna(accidents['Longitude'].mode()[0])"
   ]
  },
  {
   "cell_type": "code",
   "execution_count": 10,
   "id": "126eb29e-a0e2-4109-bc0e-92afcc55c043",
   "metadata": {},
   "outputs": [],
   "source": [
    "accidents['Road_Surface_Conditions'] = accidents['Road_Surface_Conditions'].fillna(accidents['Road_Surface_Conditions'].mode()[0])"
   ]
  },
  {
   "cell_type": "code",
   "execution_count": 11,
   "id": "a46e1850-13f7-4514-9fee-23f9e7278e6d",
   "metadata": {},
   "outputs": [],
   "source": [
    "accidents['Road_Type'] = accidents['Road_Type'].fillna('unknown')"
   ]
  },
  {
   "cell_type": "code",
   "execution_count": 12,
   "id": "f73d31c4-1d86-4848-844f-84222617a13d",
   "metadata": {},
   "outputs": [],
   "source": [
    "accidents['Weather_Conditions'] = accidents['Weather_Conditions'].fillna('unaccounted')"
   ]
  },
  {
   "cell_type": "code",
   "execution_count": 13,
   "id": "42115b19-a1e3-43e1-9305-3ce9c96dbd4c",
   "metadata": {},
   "outputs": [],
   "source": [
    "accidents['Urban_or_Rural_Area'] = accidents['Urban_or_Rural_Area'].fillna(accidents['Urban_or_Rural_Area'].mode()[0])"
   ]
  },
  {
   "cell_type": "code",
   "execution_count": 14,
   "id": "15140e90-02e1-432d-8dc0-2edee70899e2",
   "metadata": {},
   "outputs": [
    {
     "data": {
      "text/plain": [
       "Index                      0\n",
       "Accident_Severity          0\n",
       "Accident Date              0\n",
       "Latitude                   0\n",
       "Light_Conditions           0\n",
       "District Area              0\n",
       "Longitude                  0\n",
       "Number_of_Casualties       0\n",
       "Number_of_Vehicles         0\n",
       "Road_Surface_Conditions    0\n",
       "Road_Type                  0\n",
       "Urban_or_Rural_Area        0\n",
       "Weather_Conditions         0\n",
       "Vehicle_Type               0\n",
       "dtype: int64"
      ]
     },
     "execution_count": 14,
     "metadata": {},
     "output_type": "execute_result"
    }
   ],
   "source": [
    "accidents.isnull().sum()"
   ]
  },
  {
   "cell_type": "markdown",
   "id": "9b2759e0-12df-4faf-8a04-410bcd34d413",
   "metadata": {
    "jp-MarkdownHeadingCollapsed": true
   },
   "source": [
    "<h1>Data Type</h1>"
   ]
  },
  {
   "cell_type": "code",
   "execution_count": 15,
   "id": "908d97f8-8e83-4833-b25b-fabd8e6b2086",
   "metadata": {},
   "outputs": [
    {
     "data": {
      "text/plain": [
       "Index                       object\n",
       "Accident_Severity           object\n",
       "Accident Date               object\n",
       "Latitude                   float64\n",
       "Light_Conditions            object\n",
       "District Area               object\n",
       "Longitude                  float64\n",
       "Number_of_Casualties         int64\n",
       "Number_of_Vehicles           int64\n",
       "Road_Surface_Conditions     object\n",
       "Road_Type                   object\n",
       "Urban_or_Rural_Area         object\n",
       "Weather_Conditions          object\n",
       "Vehicle_Type                object\n",
       "dtype: object"
      ]
     },
     "execution_count": 15,
     "metadata": {},
     "output_type": "execute_result"
    }
   ],
   "source": [
    "accidents.dtypes"
   ]
  },
  {
   "cell_type": "code",
   "execution_count": 16,
   "id": "5d0b8b45-f385-43cd-8382-16bf5382d0a6",
   "metadata": {},
   "outputs": [],
   "source": [
    "accidents['Accident_Severity']=accidents['Accident_Severity'].astype('category')"
   ]
  },
  {
   "cell_type": "code",
   "execution_count": 17,
   "id": "85b14577-e41e-4b1d-9b7a-687dfca85b67",
   "metadata": {},
   "outputs": [],
   "source": [
    "accidents['Accident Date'] = pd.to_datetime(accidents['Accident Date'], dayfirst = True, errors = 'coerce')"
   ]
  },
  {
   "cell_type": "code",
   "execution_count": 18,
   "id": "f68d6688-2db5-459e-8f7c-9d90f13939ca",
   "metadata": {},
   "outputs": [],
   "source": [
    "accidents['Light_Conditions']=accidents['Light_Conditions'].astype('category')"
   ]
  },
  {
   "cell_type": "code",
   "execution_count": 19,
   "id": "4bb302dc-4e94-4798-baad-6607d619cb6c",
   "metadata": {},
   "outputs": [],
   "source": [
    "accidents['District Area']=accidents['District Area'].astype('category')"
   ]
  },
  {
   "cell_type": "code",
   "execution_count": 20,
   "id": "3d78fe45-ddb5-49b2-80f5-9a7b00fe4b23",
   "metadata": {},
   "outputs": [],
   "source": [
    "accidents['Road_Surface_Conditions']=accidents['Road_Surface_Conditions'].astype('category')"
   ]
  },
  {
   "cell_type": "code",
   "execution_count": 21,
   "id": "8a8b5bad-4a39-40e5-a7e1-6e94418f0562",
   "metadata": {},
   "outputs": [],
   "source": [
    "accidents['Road_Type']=accidents['Road_Type'].astype('category')"
   ]
  },
  {
   "cell_type": "code",
   "execution_count": 22,
   "id": "6af924a4-72d6-472f-bfc5-39d7f2edcbc6",
   "metadata": {},
   "outputs": [],
   "source": [
    "accidents['Urban_or_Rural_Area']=accidents['Urban_or_Rural_Area'].astype('category')"
   ]
  },
  {
   "cell_type": "code",
   "execution_count": 23,
   "id": "35200a82-c431-45a6-905d-0ea860fb7357",
   "metadata": {},
   "outputs": [],
   "source": [
    "accidents['Weather_Conditions']=accidents['Weather_Conditions'].astype('category')"
   ]
  },
  {
   "cell_type": "code",
   "execution_count": 24,
   "id": "bb19d0b1-6d89-4468-8f98-1a68be9d8fe5",
   "metadata": {},
   "outputs": [],
   "source": [
    "accidents['Vehicle_Type']=accidents['Vehicle_Type'].astype('category')"
   ]
  },
  {
   "cell_type": "code",
   "execution_count": 25,
   "id": "6c3516d6-d85c-4744-84c8-a4f6ea7e350b",
   "metadata": {},
   "outputs": [
    {
     "data": {
      "text/plain": [
       "Index                              object\n",
       "Accident_Severity                category\n",
       "Accident Date              datetime64[ns]\n",
       "Latitude                          float64\n",
       "Light_Conditions                 category\n",
       "District Area                    category\n",
       "Longitude                         float64\n",
       "Number_of_Casualties                int64\n",
       "Number_of_Vehicles                  int64\n",
       "Road_Surface_Conditions          category\n",
       "Road_Type                        category\n",
       "Urban_or_Rural_Area              category\n",
       "Weather_Conditions               category\n",
       "Vehicle_Type                     category\n",
       "dtype: object"
      ]
     },
     "execution_count": 25,
     "metadata": {},
     "output_type": "execute_result"
    }
   ],
   "source": [
    "accidents.dtypes"
   ]
  },
  {
   "cell_type": "code",
   "execution_count": 26,
   "id": "798476e8-f49c-4cc2-9c2b-80b56e473e78",
   "metadata": {
    "scrolled": true
   },
   "outputs": [
    {
     "data": {
      "text/html": [
       "<div>\n",
       "<style scoped>\n",
       "    .dataframe tbody tr th:only-of-type {\n",
       "        vertical-align: middle;\n",
       "    }\n",
       "\n",
       "    .dataframe tbody tr th {\n",
       "        vertical-align: top;\n",
       "    }\n",
       "\n",
       "    .dataframe thead th {\n",
       "        text-align: right;\n",
       "    }\n",
       "</style>\n",
       "<table border=\"1\" class=\"dataframe\">\n",
       "  <thead>\n",
       "    <tr style=\"text-align: right;\">\n",
       "      <th></th>\n",
       "      <th>Index</th>\n",
       "      <th>Accident_Severity</th>\n",
       "      <th>Accident Date</th>\n",
       "      <th>Latitude</th>\n",
       "      <th>Light_Conditions</th>\n",
       "      <th>District Area</th>\n",
       "      <th>Longitude</th>\n",
       "      <th>Number_of_Casualties</th>\n",
       "      <th>Number_of_Vehicles</th>\n",
       "      <th>Road_Surface_Conditions</th>\n",
       "      <th>Road_Type</th>\n",
       "      <th>Urban_or_Rural_Area</th>\n",
       "      <th>Weather_Conditions</th>\n",
       "      <th>Vehicle_Type</th>\n",
       "    </tr>\n",
       "  </thead>\n",
       "  <tbody>\n",
       "    <tr>\n",
       "      <th>0</th>\n",
       "      <td>200701BS64157</td>\n",
       "      <td>Serious</td>\n",
       "      <td>2019-06-05</td>\n",
       "      <td>51.506187</td>\n",
       "      <td>Darkness - lights lit</td>\n",
       "      <td>Kensington and Chelsea</td>\n",
       "      <td>-0.209082</td>\n",
       "      <td>1</td>\n",
       "      <td>2</td>\n",
       "      <td>Dry</td>\n",
       "      <td>Single carriageway</td>\n",
       "      <td>Urban</td>\n",
       "      <td>Fine no high winds</td>\n",
       "      <td>Car</td>\n",
       "    </tr>\n",
       "    <tr>\n",
       "      <th>1</th>\n",
       "      <td>200701BS65737</td>\n",
       "      <td>Serious</td>\n",
       "      <td>2019-07-02</td>\n",
       "      <td>51.495029</td>\n",
       "      <td>Daylight</td>\n",
       "      <td>Kensington and Chelsea</td>\n",
       "      <td>-0.173647</td>\n",
       "      <td>1</td>\n",
       "      <td>2</td>\n",
       "      <td>Wet or damp</td>\n",
       "      <td>Single carriageway</td>\n",
       "      <td>Urban</td>\n",
       "      <td>Raining no high winds</td>\n",
       "      <td>Car</td>\n",
       "    </tr>\n",
       "    <tr>\n",
       "      <th>2</th>\n",
       "      <td>200701BS66127</td>\n",
       "      <td>Serious</td>\n",
       "      <td>NaT</td>\n",
       "      <td>51.517715</td>\n",
       "      <td>Darkness - lighting unknown</td>\n",
       "      <td>Kensington and Chelsea</td>\n",
       "      <td>-0.210215</td>\n",
       "      <td>1</td>\n",
       "      <td>3</td>\n",
       "      <td>Dry</td>\n",
       "      <td>unknown</td>\n",
       "      <td>Urban</td>\n",
       "      <td>unaccounted</td>\n",
       "      <td>Taxi/Private hire car</td>\n",
       "    </tr>\n",
       "    <tr>\n",
       "      <th>3</th>\n",
       "      <td>200701BS66128</td>\n",
       "      <td>Serious</td>\n",
       "      <td>NaT</td>\n",
       "      <td>51.495478</td>\n",
       "      <td>Daylight</td>\n",
       "      <td>Kensington and Chelsea</td>\n",
       "      <td>-0.202731</td>\n",
       "      <td>1</td>\n",
       "      <td>4</td>\n",
       "      <td>Dry</td>\n",
       "      <td>Single carriageway</td>\n",
       "      <td>Urban</td>\n",
       "      <td>Fine no high winds</td>\n",
       "      <td>Bus or coach (17 or more pass seats)</td>\n",
       "    </tr>\n",
       "    <tr>\n",
       "      <th>4</th>\n",
       "      <td>200701BS66837</td>\n",
       "      <td>Slight</td>\n",
       "      <td>2019-09-03</td>\n",
       "      <td>51.488576</td>\n",
       "      <td>Darkness - lights lit</td>\n",
       "      <td>Kensington and Chelsea</td>\n",
       "      <td>-0.192487</td>\n",
       "      <td>1</td>\n",
       "      <td>2</td>\n",
       "      <td>Dry</td>\n",
       "      <td>unknown</td>\n",
       "      <td>Urban</td>\n",
       "      <td>unaccounted</td>\n",
       "      <td>Other vehicle</td>\n",
       "    </tr>\n",
       "    <tr>\n",
       "      <th>...</th>\n",
       "      <td>...</td>\n",
       "      <td>...</td>\n",
       "      <td>...</td>\n",
       "      <td>...</td>\n",
       "      <td>...</td>\n",
       "      <td>...</td>\n",
       "      <td>...</td>\n",
       "      <td>...</td>\n",
       "      <td>...</td>\n",
       "      <td>...</td>\n",
       "      <td>...</td>\n",
       "      <td>...</td>\n",
       "      <td>...</td>\n",
       "      <td>...</td>\n",
       "    </tr>\n",
       "    <tr>\n",
       "      <th>660674</th>\n",
       "      <td>201091NM01760</td>\n",
       "      <td>Slight</td>\n",
       "      <td>NaT</td>\n",
       "      <td>57.374005</td>\n",
       "      <td>Daylight</td>\n",
       "      <td>Highland</td>\n",
       "      <td>-3.467828</td>\n",
       "      <td>2</td>\n",
       "      <td>1</td>\n",
       "      <td>Dry</td>\n",
       "      <td>Single carriageway</td>\n",
       "      <td>Rural</td>\n",
       "      <td>Fine no high winds</td>\n",
       "      <td>Car</td>\n",
       "    </tr>\n",
       "    <tr>\n",
       "      <th>660675</th>\n",
       "      <td>201091NM01881</td>\n",
       "      <td>Slight</td>\n",
       "      <td>NaT</td>\n",
       "      <td>57.232273</td>\n",
       "      <td>Darkness - no lighting</td>\n",
       "      <td>Highland</td>\n",
       "      <td>-3.809281</td>\n",
       "      <td>1</td>\n",
       "      <td>1</td>\n",
       "      <td>Frost or ice</td>\n",
       "      <td>Single carriageway</td>\n",
       "      <td>Rural</td>\n",
       "      <td>Fine no high winds</td>\n",
       "      <td>Car</td>\n",
       "    </tr>\n",
       "    <tr>\n",
       "      <th>660676</th>\n",
       "      <td>201091NM01935</td>\n",
       "      <td>Slight</td>\n",
       "      <td>NaT</td>\n",
       "      <td>57.585044</td>\n",
       "      <td>Daylight</td>\n",
       "      <td>Highland</td>\n",
       "      <td>-3.862727</td>\n",
       "      <td>1</td>\n",
       "      <td>3</td>\n",
       "      <td>Frost or ice</td>\n",
       "      <td>Single carriageway</td>\n",
       "      <td>Rural</td>\n",
       "      <td>Fine no high winds</td>\n",
       "      <td>Car</td>\n",
       "    </tr>\n",
       "    <tr>\n",
       "      <th>660677</th>\n",
       "      <td>201091NM01964</td>\n",
       "      <td>Serious</td>\n",
       "      <td>NaT</td>\n",
       "      <td>57.214898</td>\n",
       "      <td>Darkness - no lighting</td>\n",
       "      <td>Highland</td>\n",
       "      <td>-3.823997</td>\n",
       "      <td>1</td>\n",
       "      <td>2</td>\n",
       "      <td>Wet or damp</td>\n",
       "      <td>Single carriageway</td>\n",
       "      <td>Rural</td>\n",
       "      <td>Fine no high winds</td>\n",
       "      <td>Motorcycle over 500cc</td>\n",
       "    </tr>\n",
       "    <tr>\n",
       "      <th>660678</th>\n",
       "      <td>201091NM02142</td>\n",
       "      <td>Serious</td>\n",
       "      <td>NaT</td>\n",
       "      <td>57.575210</td>\n",
       "      <td>Daylight</td>\n",
       "      <td>Highland</td>\n",
       "      <td>-3.895673</td>\n",
       "      <td>1</td>\n",
       "      <td>1</td>\n",
       "      <td>Wet or damp</td>\n",
       "      <td>Dual carriageway</td>\n",
       "      <td>Rural</td>\n",
       "      <td>Snowing no high winds</td>\n",
       "      <td>Car</td>\n",
       "    </tr>\n",
       "  </tbody>\n",
       "</table>\n",
       "<p>660679 rows × 14 columns</p>\n",
       "</div>"
      ],
      "text/plain": [
       "                Index Accident_Severity Accident Date   Latitude  \\\n",
       "0       200701BS64157           Serious    2019-06-05  51.506187   \n",
       "1       200701BS65737           Serious    2019-07-02  51.495029   \n",
       "2       200701BS66127           Serious           NaT  51.517715   \n",
       "3       200701BS66128           Serious           NaT  51.495478   \n",
       "4       200701BS66837            Slight    2019-09-03  51.488576   \n",
       "...               ...               ...           ...        ...   \n",
       "660674  201091NM01760            Slight           NaT  57.374005   \n",
       "660675  201091NM01881            Slight           NaT  57.232273   \n",
       "660676  201091NM01935            Slight           NaT  57.585044   \n",
       "660677  201091NM01964           Serious           NaT  57.214898   \n",
       "660678  201091NM02142           Serious           NaT  57.575210   \n",
       "\n",
       "                   Light_Conditions           District Area  Longitude  \\\n",
       "0             Darkness - lights lit  Kensington and Chelsea  -0.209082   \n",
       "1                          Daylight  Kensington and Chelsea  -0.173647   \n",
       "2       Darkness - lighting unknown  Kensington and Chelsea  -0.210215   \n",
       "3                          Daylight  Kensington and Chelsea  -0.202731   \n",
       "4             Darkness - lights lit  Kensington and Chelsea  -0.192487   \n",
       "...                             ...                     ...        ...   \n",
       "660674                     Daylight                Highland  -3.467828   \n",
       "660675       Darkness - no lighting                Highland  -3.809281   \n",
       "660676                     Daylight                Highland  -3.862727   \n",
       "660677       Darkness - no lighting                Highland  -3.823997   \n",
       "660678                     Daylight                Highland  -3.895673   \n",
       "\n",
       "        Number_of_Casualties  Number_of_Vehicles Road_Surface_Conditions  \\\n",
       "0                          1                   2                     Dry   \n",
       "1                          1                   2             Wet or damp   \n",
       "2                          1                   3                     Dry   \n",
       "3                          1                   4                     Dry   \n",
       "4                          1                   2                     Dry   \n",
       "...                      ...                 ...                     ...   \n",
       "660674                     2                   1                     Dry   \n",
       "660675                     1                   1            Frost or ice   \n",
       "660676                     1                   3            Frost or ice   \n",
       "660677                     1                   2             Wet or damp   \n",
       "660678                     1                   1             Wet or damp   \n",
       "\n",
       "                 Road_Type Urban_or_Rural_Area     Weather_Conditions  \\\n",
       "0       Single carriageway               Urban     Fine no high winds   \n",
       "1       Single carriageway               Urban  Raining no high winds   \n",
       "2                  unknown               Urban            unaccounted   \n",
       "3       Single carriageway               Urban     Fine no high winds   \n",
       "4                  unknown               Urban            unaccounted   \n",
       "...                    ...                 ...                    ...   \n",
       "660674  Single carriageway               Rural     Fine no high winds   \n",
       "660675  Single carriageway               Rural     Fine no high winds   \n",
       "660676  Single carriageway               Rural     Fine no high winds   \n",
       "660677  Single carriageway               Rural     Fine no high winds   \n",
       "660678    Dual carriageway               Rural  Snowing no high winds   \n",
       "\n",
       "                                Vehicle_Type  \n",
       "0                                        Car  \n",
       "1                                        Car  \n",
       "2                      Taxi/Private hire car  \n",
       "3       Bus or coach (17 or more pass seats)  \n",
       "4                              Other vehicle  \n",
       "...                                      ...  \n",
       "660674                                   Car  \n",
       "660675                                   Car  \n",
       "660676                                   Car  \n",
       "660677                 Motorcycle over 500cc  \n",
       "660678                                   Car  \n",
       "\n",
       "[660679 rows x 14 columns]"
      ]
     },
     "execution_count": 26,
     "metadata": {},
     "output_type": "execute_result"
    }
   ],
   "source": [
    "accidents"
   ]
  },
  {
   "cell_type": "markdown",
   "id": "29e7f7b7-6b90-435f-9614-08bbc09d8197",
   "metadata": {
    "jp-MarkdownHeadingCollapsed": true
   },
   "source": [
    "<h1>1# What Vehicle Type has the most accidents?</h1>"
   ]
  },
  {
   "cell_type": "code",
   "execution_count": 27,
   "id": "2336c6c4-b2b9-4c55-a978-627b8cf00959",
   "metadata": {},
   "outputs": [],
   "source": [
    "Ftl = accidents[accidents['Accident_Severity']=='Fatal']\n",
    "Srs = accidents[accidents['Accident_Severity']=='Serious']\n",
    "Slt = accidents[accidents['Accident_Severity']=='Slight']"
   ]
  },
  {
   "cell_type": "code",
   "execution_count": 28,
   "id": "311b3ce2-7796-4367-bdf4-4fe1651caf5f",
   "metadata": {},
   "outputs": [
    {
     "data": {
      "text/plain": [
       "Vehicle_Type\n",
       "Car                                     6577\n",
       "Van / Goods 3.5 tonnes mgw or under      467\n",
       "Motorcycle over 500cc                    339\n",
       "Bus or coach (17 or more pass seats)     325\n",
       "Goods 7.5 tonnes mgw and over            216\n",
       "Name: count, dtype: int64"
      ]
     },
     "execution_count": 28,
     "metadata": {},
     "output_type": "execute_result"
    }
   ],
   "source": [
    "Ftl['Vehicle_Type'].value_counts().nlargest(5)"
   ]
  },
  {
   "cell_type": "code",
   "execution_count": 29,
   "id": "2d22cb78-1e10-4061-be39-dca5f6f08a5e",
   "metadata": {},
   "outputs": [
    {
     "data": {
      "text/plain": [
       "Vehicle_Type\n",
       "Car                                     66461\n",
       "Van / Goods 3.5 tonnes mgw or under      4554\n",
       "Motorcycle over 500cc                    3457\n",
       "Bus or coach (17 or more pass seats)     3373\n",
       "Goods 7.5 tonnes mgw and over            2321\n",
       "Name: count, dtype: int64"
      ]
     },
     "execution_count": 29,
     "metadata": {},
     "output_type": "execute_result"
    }
   ],
   "source": [
    "Srs['Vehicle_Type'].value_counts().nlargest(5)"
   ]
  },
  {
   "cell_type": "code",
   "execution_count": 30,
   "id": "66b7cc66-b229-4353-9e11-e73bc3c9dd52",
   "metadata": {},
   "outputs": [
    {
     "data": {
      "text/plain": [
       "Vehicle_Type\n",
       "Car                                     424954\n",
       "Van / Goods 3.5 tonnes mgw or under      29139\n",
       "Bus or coach (17 or more pass seats)     22180\n",
       "Motorcycle over 500cc                    21861\n",
       "Goods 7.5 tonnes mgw and over            14770\n",
       "Name: count, dtype: int64"
      ]
     },
     "execution_count": 30,
     "metadata": {},
     "output_type": "execute_result"
    }
   ],
   "source": [
    "Slt['Vehicle_Type'].value_counts().nlargest(5)"
   ]
  },
  {
   "cell_type": "code",
   "execution_count": 31,
   "id": "e9b437f0-8b36-4575-8a49-35d94e7afd85",
   "metadata": {},
   "outputs": [
    {
     "data": {
      "text/plain": [
       "Vehicle_Type\n",
       "Car                                      497992\n",
       "Van / Goods 3.5 tonnes mgw or under       34160\n",
       "Bus or coach (17 or more pass seats)      25878\n",
       "Motorcycle over 500cc                     25657\n",
       "Goods 7.5 tonnes mgw and over             17307\n",
       "Motorcycle 125cc and under                15269\n",
       "Taxi/Private hire car                     13294\n",
       "Motorcycle over 125cc and up to 500cc      7656\n",
       "Motorcycle 50cc and under                  7603\n",
       "Goods over 3.5t. and under 7.5t            6096\n",
       "Other vehicle                              5637\n",
       "Minibus (8 - 16 passenger seats)           1976\n",
       "Agricultural vehicle                       1947\n",
       "Pedal cycle                                 197\n",
       "Data missing or out of range                  6\n",
       "Ridden horse                                  4\n",
       "Name: count, dtype: int64"
      ]
     },
     "execution_count": 31,
     "metadata": {},
     "output_type": "execute_result"
    }
   ],
   "source": [
    "accidents['Vehicle_Type'].value_counts()"
   ]
  },
  {
   "cell_type": "code",
   "execution_count": 32,
   "id": "0b01d246-ae79-4c75-ac8e-f52f495dd299",
   "metadata": {},
   "outputs": [
    {
     "data": {
      "text/plain": [
       "Vehicle_Type\n",
       "Car                                      497992\n",
       "Van / Goods 3.5 tonnes mgw or under       34160\n",
       "Bus or coach (17 or more pass seats)      25878\n",
       "Motorcycle over 500cc                     25657\n",
       "Goods 7.5 tonnes mgw and over             17307\n",
       "Motorcycle 125cc and under                15269\n",
       "Taxi/Private hire car                     13294\n",
       "Motorcycle over 125cc and up to 500cc      7656\n",
       "Motorcycle 50cc and under                  7603\n",
       "Goods over 3.5t. and under 7.5t            6096\n",
       "Name: count, dtype: int64"
      ]
     },
     "execution_count": 32,
     "metadata": {},
     "output_type": "execute_result"
    }
   ],
   "source": [
    "accidents['Vehicle_Type'].value_counts().head(10)"
   ]
  },
  {
   "cell_type": "code",
   "execution_count": 33,
   "id": "b16cbaca-5768-4067-b2d9-d3d6eac46981",
   "metadata": {},
   "outputs": [
    {
     "data": {
      "text/plain": [
       "np.int64(660679)"
      ]
     },
     "execution_count": 33,
     "metadata": {},
     "output_type": "execute_result"
    }
   ],
   "source": [
    "accidents['Vehicle_Type'].value_counts().sum()"
   ]
  },
  {
   "cell_type": "markdown",
   "id": "12840920-f692-4774-8b88-03c24c671cb9",
   "metadata": {},
   "source": [
    "<h2>Insight #1</h2>\n",
    "<h3>The Vehicle type that has the most accidents was a Car, with a percentage of 75.38 %. As shown in the data that whatever accident severity have, the vehicle type that has the most accident is Car.</h3>"
   ]
  },
  {
   "cell_type": "markdown",
   "id": "38fe1f35-309b-46da-a052-f346d66115c0",
   "metadata": {
    "jp-MarkdownHeadingCollapsed": true
   },
   "source": [
    "<h1>2# What District Area has the most accidents?</h1>"
   ]
  },
  {
   "cell_type": "code",
   "execution_count": 34,
   "id": "61d7c0e6-580a-42f4-b097-1895a1a6de1a",
   "metadata": {},
   "outputs": [
    {
     "data": {
      "text/plain": [
       "District Area\n",
       "Birmingham            13491\n",
       "Leeds                  8898\n",
       "Manchester             6720\n",
       "Bradford               6212\n",
       "Sheffield              5710\n",
       "                      ...  \n",
       "Berwick-upon-Tweed      153\n",
       "Teesdale                142\n",
       "Shetland Islands        133\n",
       "Orkney Islands          117\n",
       "Clackmannanshire         91\n",
       "Name: count, Length: 422, dtype: int64"
      ]
     },
     "execution_count": 34,
     "metadata": {},
     "output_type": "execute_result"
    }
   ],
   "source": [
    "accidents['District Area'].value_counts()"
   ]
  },
  {
   "cell_type": "code",
   "execution_count": 35,
   "id": "25e770dc-e163-4c0b-84ae-8eb52ed15848",
   "metadata": {},
   "outputs": [
    {
     "data": {
      "text/plain": [
       "'Birmingham'"
      ]
     },
     "execution_count": 35,
     "metadata": {},
     "output_type": "execute_result"
    }
   ],
   "source": [
    "accidents['District Area'].value_counts().idxmax()"
   ]
  },
  {
   "cell_type": "markdown",
   "id": "4bd288ea-4862-4286-8e63-35e6bd3c61f8",
   "metadata": {},
   "source": [
    "<h2>Insight #2</h2>\n",
    "<h3>The district Area that has most accidents is the area of Birmingham, with a average of 13,491 (2%). </h3>"
   ]
  },
  {
   "cell_type": "markdown",
   "id": "da035ed6-089f-486d-859b-5520f3dbb465",
   "metadata": {
    "jp-MarkdownHeadingCollapsed": true
   },
   "source": [
    "<h1>3# What Area has the most accidents? is it Rural or Urban Areas?</h1>"
   ]
  },
  {
   "cell_type": "code",
   "execution_count": 36,
   "id": "34be9169-5c4d-403b-877a-8ce64e3ef555",
   "metadata": {},
   "outputs": [
    {
     "data": {
      "text/plain": [
       "Urban_or_Rural_Area\n",
       "Urban          421678\n",
       "Rural          238990\n",
       "Unallocated        11\n",
       "Name: count, dtype: int64"
      ]
     },
     "execution_count": 36,
     "metadata": {},
     "output_type": "execute_result"
    }
   ],
   "source": [
    "accidents['Urban_or_Rural_Area'].value_counts()"
   ]
  },
  {
   "cell_type": "code",
   "execution_count": 37,
   "id": "8924a26f-dd27-40f0-ab7c-c87977117462",
   "metadata": {},
   "outputs": [
    {
     "data": {
      "text/plain": [
       "'Urban'"
      ]
     },
     "execution_count": 37,
     "metadata": {},
     "output_type": "execute_result"
    }
   ],
   "source": [
    "accidents['Urban_or_Rural_Area'].value_counts().idxmax()"
   ]
  },
  {
   "cell_type": "markdown",
   "id": "d517a823-dd4e-4f62-8618-d9b7d9c29278",
   "metadata": {},
   "source": [
    "<h2>Insight #3</h2>\n",
    "<h3>The Area that has most accidents is the Urban Area, with a average of 42,167,8 (63.83%). </h3>"
   ]
  },
  {
   "cell_type": "markdown",
   "id": "ec06a49f-be82-4cff-8339-589e7b5da878",
   "metadata": {
    "jp-MarkdownHeadingCollapsed": true
   },
   "source": [
    "<h1>4# What Area has the most casualties? is it Rural or Urban Area?</h1>"
   ]
  },
  {
   "cell_type": "code",
   "execution_count": 38,
   "id": "22d57750-0e46-4158-a95c-1c8f190260e5",
   "metadata": {},
   "outputs": [
    {
     "data": {
      "text/plain": [
       "Urban_or_Rural_Area\n",
       "Urban          421678\n",
       "Rural          238990\n",
       "Unallocated        11\n",
       "Name: count, dtype: int64"
      ]
     },
     "execution_count": 38,
     "metadata": {},
     "output_type": "execute_result"
    }
   ],
   "source": [
    "accidents['Urban_or_Rural_Area'].value_counts()"
   ]
  },
  {
   "cell_type": "code",
   "execution_count": 39,
   "id": "b48ebfb1-fe58-4949-b250-7178065d8d23",
   "metadata": {},
   "outputs": [
    {
     "data": {
      "text/plain": [
       "Urban_or_Rural_Area\n",
       "Rural          1.479204\n",
       "Unallocated    1.181818\n",
       "Urban          1.287807\n",
       "Name: Number_of_Casualties, dtype: float64"
      ]
     },
     "execution_count": 39,
     "metadata": {},
     "output_type": "execute_result"
    }
   ],
   "source": [
    "accidents.groupby('Urban_or_Rural_Area')['Number_of_Casualties'].mean()"
   ]
  },
  {
   "cell_type": "code",
   "execution_count": 40,
   "id": "b2ca8734-49fd-4020-a011-1139a71c5dc1",
   "metadata": {},
   "outputs": [
    {
     "data": {
      "text/plain": [
       "'Rural'"
      ]
     },
     "execution_count": 40,
     "metadata": {},
     "output_type": "execute_result"
    }
   ],
   "source": [
    "accidents.groupby('Urban_or_Rural_Area')['Number_of_Casualties'].mean().idxmax()"
   ]
  },
  {
   "cell_type": "markdown",
   "id": "546cbd4b-e720-4ad0-abf4-2e8f1f6fd543",
   "metadata": {},
   "source": [
    "<h2>Insight #4</h2>\n",
    "<h3>As shown in the data result. The area that has the most number of casualties is the Rural Areas which has 36.18% in overrall accidents, even though the Urban Area has the highest accident rate and expected that it is also the highest in casualties, the data shown that it is wrong.</h3>"
   ]
  },
  {
   "cell_type": "markdown",
   "id": "7511a8c2-35b3-4883-9e07-f3ac16cd3c24",
   "metadata": {
    "jp-MarkdownHeadingCollapsed": true
   },
   "source": [
    "<h1>5# What exact date has the highest accident rate?</h1>\n"
   ]
  },
  {
   "cell_type": "code",
   "execution_count": 41,
   "id": "2f59d87d-2619-4ef7-9dd5-698ef68f46d2",
   "metadata": {},
   "outputs": [
    {
     "data": {
      "text/plain": [
       "Accident Date\n",
       "2021-02-11    685\n",
       "2021-10-06    680\n",
       "2019-12-06    678\n",
       "2019-02-01    676\n",
       "2021-12-04    667\n",
       "             ... \n",
       "2022-01-09    236\n",
       "2022-12-02    236\n",
       "2022-04-05    231\n",
       "2022-02-07    213\n",
       "2022-01-10    123\n",
       "Name: count, Length: 576, dtype: int64"
      ]
     },
     "execution_count": 41,
     "metadata": {},
     "output_type": "execute_result"
    }
   ],
   "source": [
    "accidents['Accident Date'].value_counts()"
   ]
  },
  {
   "cell_type": "code",
   "execution_count": 42,
   "id": "89258d95-df77-429e-9223-5f3ea90b68d9",
   "metadata": {},
   "outputs": [
    {
     "data": {
      "text/plain": [
       "Timestamp('2021-02-11 00:00:00')"
      ]
     },
     "execution_count": 42,
     "metadata": {},
     "output_type": "execute_result"
    }
   ],
   "source": [
    "accidents['Accident Date'].value_counts().idxmax()"
   ]
  },
  {
   "cell_type": "markdown",
   "id": "68bcd0e2-a5e1-4a8d-8044-2633930beb51",
   "metadata": {},
   "source": [
    "<h2>Insight #5</h2>\n",
    "<h3>The exact date that have the highest accident rate is 2021-02-11 with the overall index of 685 accidents that has been encode in the dataset. </h3>"
   ]
  },
  {
   "cell_type": "code",
   "execution_count": null,
   "id": "391e718b-76d6-447a-8186-dee2c882da0a",
   "metadata": {},
   "outputs": [],
   "source": []
  },
  {
   "cell_type": "markdown",
   "id": "bcd54faa-edf1-46bd-ab9e-26a8842945b2",
   "metadata": {
    "jp-MarkdownHeadingCollapsed": true
   },
   "source": [
    "<h1>6# Do certain road surface conditions contribute to higher accident severity?</h1>"
   ]
  },
  {
   "cell_type": "code",
   "execution_count": 43,
   "id": "97c4b06c-9a58-41e6-9bc3-a27e2473dad1",
   "metadata": {},
   "outputs": [],
   "source": [
    "Ft = accidents[accidents['Accident_Severity']=='Fatal']\n",
    "Sr = accidents[accidents['Accident_Severity']=='Serious']\n",
    "Sl = accidents[accidents['Accident_Severity']=='Slight']"
   ]
  },
  {
   "cell_type": "code",
   "execution_count": 44,
   "id": "c084398c-a7ef-4547-8347-6bf8ccabd7cb",
   "metadata": {},
   "outputs": [
    {
     "data": {
      "text/plain": [
       "Road_Surface_Conditions\n",
       "Dry                     5790\n",
       "Wet or damp             2620\n",
       "Frost or ice             193\n",
       "Snow                      35\n",
       "Flood over 3cm. deep      23\n",
       "Name: count, dtype: int64"
      ]
     },
     "execution_count": 44,
     "metadata": {},
     "output_type": "execute_result"
    }
   ],
   "source": [
    "Ft['Road_Surface_Conditions'].value_counts().nlargest(5)"
   ]
  },
  {
   "cell_type": "code",
   "execution_count": 45,
   "id": "030d113c-0a21-4784-b757-6c8ea4ae46ab",
   "metadata": {},
   "outputs": [
    {
     "data": {
      "text/plain": [
       "Road_Surface_Conditions\n",
       "Dry                     61708\n",
       "Wet or damp             23785\n",
       "Frost or ice             2007\n",
       "Snow                      565\n",
       "Flood over 3cm. deep      152\n",
       "Name: count, dtype: int64"
      ]
     },
     "execution_count": 45,
     "metadata": {},
     "output_type": "execute_result"
    }
   ],
   "source": [
    "Sr['Road_Surface_Conditions'].value_counts().nlargest(5)"
   ]
  },
  {
   "cell_type": "code",
   "execution_count": 46,
   "id": "9897a946-7c48-4ca4-813a-1e2cee9d5732",
   "metadata": {},
   "outputs": [
    {
     "data": {
      "text/plain": [
       "Road_Surface_Conditions\n",
       "Dry                     381049\n",
       "Wet or damp             160303\n",
       "Frost or ice             16317\n",
       "Snow                      5290\n",
       "Flood over 3cm. deep       842\n",
       "Name: count, dtype: int64"
      ]
     },
     "execution_count": 46,
     "metadata": {},
     "output_type": "execute_result"
    }
   ],
   "source": [
    "Sl['Road_Surface_Conditions'].value_counts().nlargest(5)"
   ]
  },
  {
   "cell_type": "markdown",
   "id": "c2cb7cab-f3b3-4d53-a896-59d16bc1d880",
   "metadata": {},
   "source": [
    "<h2>Insight #6</h2>\n",
    "<h3>As shown in this data, yes certain road conditions affect the higher accident severity, and most of people think that in the wet or dame road surface has the highest accident severity, but as the data shown the highest rate in the 3 accident severity is the Dry road surface.  </h3>"
   ]
  },
  {
   "cell_type": "markdown",
   "id": "d53c1db7-3b6c-4c8c-83c7-4588b50798ab",
   "metadata": {
    "jp-MarkdownHeadingCollapsed": true
   },
   "source": [
    "<h1>7# Does the Light Conditions affects the Accident Severity?</h1>"
   ]
  },
  {
   "cell_type": "code",
   "execution_count": 47,
   "id": "79f30e53-96ad-4f9e-b3ec-c09a742d3ce9",
   "metadata": {},
   "outputs": [],
   "source": [
    "F_lc = accidents[accidents['Accident_Severity']=='Fatal']\n",
    "Sr_lc = accidents[accidents['Accident_Severity']=='Serious']\n",
    "Sl_lc = accidents[accidents['Accident_Severity']=='Slight']"
   ]
  },
  {
   "cell_type": "code",
   "execution_count": 48,
   "id": "dce62e9e-774c-4088-9f8f-350dab5c3d2b",
   "metadata": {},
   "outputs": [
    {
     "data": {
      "text/plain": [
       "Light_Conditions\n",
       "Daylight                       5076\n",
       "Darkness - lights lit          1860\n",
       "Darkness - no lighting         1612\n",
       "Darkness - lighting unknown      68\n",
       "Darkness - lights unlit          45\n",
       "Name: count, dtype: int64"
      ]
     },
     "execution_count": 48,
     "metadata": {},
     "output_type": "execute_result"
    }
   ],
   "source": [
    "F_lc['Light_Conditions'].value_counts().nlargest(5)"
   ]
  },
  {
   "cell_type": "code",
   "execution_count": 49,
   "id": "86a1c130-e889-43d1-a804-042f44a97cb7",
   "metadata": {},
   "outputs": [
    {
     "data": {
      "text/plain": [
       "Light_Conditions\n",
       "Daylight                       60759\n",
       "Darkness - lights lit          19130\n",
       "Darkness - no lighting          7174\n",
       "Darkness - lighting unknown      794\n",
       "Darkness - lights unlit          360\n",
       "Name: count, dtype: int64"
      ]
     },
     "execution_count": 49,
     "metadata": {},
     "output_type": "execute_result"
    }
   ],
   "source": [
    "Sr_lc['Light_Conditions'].value_counts().nlargest(5)"
   ]
  },
  {
   "cell_type": "code",
   "execution_count": 50,
   "id": "7fbae72b-1637-43d2-a40d-1d4d9859c898",
   "metadata": {},
   "outputs": [
    {
     "data": {
      "text/plain": [
       "Light_Conditions\n",
       "Daylight                       419045\n",
       "Darkness - lights lit          108345\n",
       "Darkness - no lighting          28651\n",
       "Darkness - lighting unknown      5622\n",
       "Darkness - lights unlit          2138\n",
       "Name: count, dtype: int64"
      ]
     },
     "execution_count": 50,
     "metadata": {},
     "output_type": "execute_result"
    }
   ],
   "source": [
    "Sl_lc['Light_Conditions'].value_counts().nlargest(5)"
   ]
  },
  {
   "cell_type": "markdown",
   "id": "05d9093c-b238-4e36-8b3c-63408d51c416",
   "metadata": {},
   "source": [
    "<h2>Insight #7</h2>\n",
    "<h3>As shown in this data, yes the light conditions affect the higher accident severity, and most of people think that in the night time has the highest accident severity, but as the data shown the highest rate in the 3 accident severity is the day time.  </h3>"
   ]
  },
  {
   "cell_type": "markdown",
   "id": "a85a2222-51f1-4553-a2b9-aa11c2aec423",
   "metadata": {
    "jp-MarkdownHeadingCollapsed": true
   },
   "source": [
    " <h1>8# Is There any Correlation between the Number of Vehicles and Number of Casualties?</h1>"
   ]
  },
  {
   "cell_type": "code",
   "execution_count": 51,
   "id": "4434dba3-f64a-41ed-b159-5e777d5934d7",
   "metadata": {},
   "outputs": [],
   "source": [
    "as_noc = accidents['Number_of_Vehicles'].corr(accidents['Number_of_Casualties'])"
   ]
  },
  {
   "cell_type": "code",
   "execution_count": 52,
   "id": "d8c89878-53c2-4da3-aa97-52c445c107ba",
   "metadata": {},
   "outputs": [
    {
     "data": {
      "text/plain": [
       "np.float64(0.22888886126927557)"
      ]
     },
     "execution_count": 52,
     "metadata": {},
     "output_type": "execute_result"
    }
   ],
   "source": [
    "as_noc"
   ]
  },
  {
   "cell_type": "markdown",
   "id": "66757b81-2761-448d-a112-36cbbe88be7a",
   "metadata": {},
   "source": [
    "<h2>Insight #8</h2>\n",
    "<h3>As shown in this data, There are no correlation between the number of vehicles and number of casualties. </h3>"
   ]
  },
  {
   "cell_type": "markdown",
   "id": "f0399cbb-dad7-40dd-9c44-6850b3fbb5b6",
   "metadata": {
    "jp-MarkdownHeadingCollapsed": true
   },
   "source": [
    "<h1>9# Are wet road conditions associated with a higher number of accidents? and what type of accident severity does wet road conditions associated with?</h1>"
   ]
  },
  {
   "cell_type": "code",
   "execution_count": 53,
   "id": "956ad90e-a5c0-4dc7-8bad-a81769e72bfa",
   "metadata": {},
   "outputs": [
    {
     "data": {
      "text/plain": [
       "Road_Surface_Conditions\n",
       "Dry                     448547\n",
       "Wet or damp             186708\n",
       "Frost or ice             18517\n",
       "Snow                      5890\n",
       "Flood over 3cm. deep      1017\n",
       "Name: count, dtype: int64"
      ]
     },
     "execution_count": 53,
     "metadata": {},
     "output_type": "execute_result"
    }
   ],
   "source": [
    "accidents['Road_Surface_Conditions'].value_counts()"
   ]
  },
  {
   "cell_type": "code",
   "execution_count": 54,
   "id": "6c81d251-52c8-4f76-95e0-fc3596430af1",
   "metadata": {},
   "outputs": [],
   "source": [
    "wod = accidents[accidents['Road_Surface_Conditions']=='Wet or damp']"
   ]
  },
  {
   "cell_type": "code",
   "execution_count": 55,
   "id": "816aafe1-4fc9-4658-b06f-439e6d5f53fe",
   "metadata": {},
   "outputs": [
    {
     "data": {
      "text/plain": [
       "Accident_Severity\n",
       "Slight     160303\n",
       "Serious     23785\n",
       "Fatal        2620\n",
       "Name: count, dtype: int64"
      ]
     },
     "execution_count": 55,
     "metadata": {},
     "output_type": "execute_result"
    }
   ],
   "source": [
    "wod['Accident_Severity'].value_counts().nlargest(5)"
   ]
  },
  {
   "cell_type": "markdown",
   "id": "a9e61833-9f0c-44fa-91b0-f4c05399e9c4",
   "metadata": {},
   "source": [
    "<h2>Insight #9</h2>\n",
    "<h3>As shown in this data, yes the wet road conditions associated with a higher number of accidents. And the highest number of accident severity that wet road conditions associated is the Slight severity accidents.  </h3>"
   ]
  },
  {
   "cell_type": "markdown",
   "id": "272bbc48-2594-4aeb-8375-c2a273c45c83",
   "metadata": {
    "jp-MarkdownHeadingCollapsed": true
   },
   "source": [
    "<h1>10# Does the number of vehicles involved increase under specific weather conditions?</h1>"
   ]
  },
  {
   "cell_type": "code",
   "execution_count": 56,
   "id": "1e325780-a060-4169-ab9a-42534112f5e9",
   "metadata": {},
   "outputs": [
    {
     "data": {
      "text/plain": [
       "Weather_Conditions\n",
       "Fine no high winds       520885\n",
       "Raining no high winds     79696\n",
       "Other                     17150\n",
       "unaccounted               14128\n",
       "Raining + high winds       9615\n",
       "Fine + high winds          8554\n",
       "Snowing no high winds      6238\n",
       "Fog or mist                3528\n",
       "Snowing + high winds        885\n",
       "Name: count, dtype: int64"
      ]
     },
     "execution_count": 56,
     "metadata": {},
     "output_type": "execute_result"
    }
   ],
   "source": [
    "accidents['Weather_Conditions'].value_counts()"
   ]
  },
  {
   "cell_type": "code",
   "execution_count": 57,
   "id": "6488b220-8e60-4ce0-bc04-a23c9d945d53",
   "metadata": {},
   "outputs": [],
   "source": [
    "fnh = accidents[accidents['Weather_Conditions']=='Fine no high winds']\n",
    "rnh = accidents[accidents['Weather_Conditions']=='Raining no high winds']\n",
    "o = accidents[accidents['Weather_Conditions']=='Other']\n",
    "u = accidents[accidents['Weather_Conditions']=='unaccounted']\n",
    "rh = accidents[accidents['Weather_Conditions']=='Raining + high winds']\n",
    "fh = accidents[accidents['Weather_Conditions']=='Fine + high winds']\n",
    "snh = accidents[accidents['Weather_Conditions']=='Snowing no high winds']\n",
    "f = accidents[accidents['Weather_Conditions']=='Fog or mist']\n",
    "sh = accidents[accidents['Weather_Conditions']=='Snowing + high winds']"
   ]
  },
  {
   "cell_type": "code",
   "execution_count": 58,
   "id": "a9a5ab1c-1fb6-42c8-9d10-9cad6f2a96eb",
   "metadata": {},
   "outputs": [
    {
     "data": {
      "text/plain": [
       "Number_of_Vehicles\n",
       "2    312245\n",
       "1    155121\n",
       "3     41632\n",
       "4      8937\n",
       "5      1942\n",
       "Name: count, dtype: int64"
      ]
     },
     "execution_count": 58,
     "metadata": {},
     "output_type": "execute_result"
    }
   ],
   "source": [
    "fnh['Number_of_Vehicles'].value_counts().nlargest(5)"
   ]
  },
  {
   "cell_type": "code",
   "execution_count": 59,
   "id": "2226eb0d-a997-4c5a-8832-5ae75be6cb12",
   "metadata": {},
   "outputs": [
    {
     "data": {
      "text/plain": [
       "Number_of_Vehicles\n",
       "2    46210\n",
       "1    24814\n",
       "3     6780\n",
       "4     1420\n",
       "5      296\n",
       "Name: count, dtype: int64"
      ]
     },
     "execution_count": 59,
     "metadata": {},
     "output_type": "execute_result"
    }
   ],
   "source": [
    "rnh['Number_of_Vehicles'].value_counts().nlargest(5)"
   ]
  },
  {
   "cell_type": "code",
   "execution_count": 60,
   "id": "6f44aadc-4662-486e-979d-f8f0f3a49d1e",
   "metadata": {},
   "outputs": [
    {
     "data": {
      "text/plain": [
       "Number_of_Vehicles\n",
       "2    1720\n",
       "1    1388\n",
       "3     298\n",
       "4      75\n",
       "5      25\n",
       "Name: count, dtype: int64"
      ]
     },
     "execution_count": 60,
     "metadata": {},
     "output_type": "execute_result"
    }
   ],
   "source": [
    "f['Number_of_Vehicles'].value_counts().nlargest(5)"
   ]
  },
  {
   "cell_type": "code",
   "execution_count": 61,
   "id": "c6721d6a-9ac6-4cc3-bd03-edc520c26cfd",
   "metadata": {},
   "outputs": [
    {
     "data": {
      "text/plain": [
       "Number_of_Vehicles\n",
       "2    3172\n",
       "1    2420\n",
       "3     497\n",
       "4     104\n",
       "5      25\n",
       "Name: count, dtype: int64"
      ]
     },
     "execution_count": 61,
     "metadata": {},
     "output_type": "execute_result"
    }
   ],
   "source": [
    "snh['Number_of_Vehicles'].value_counts().nlargest(5)"
   ]
  },
  {
   "cell_type": "code",
   "execution_count": 62,
   "id": "0184ac7a-e647-43d3-b733-fa17d2979420",
   "metadata": {},
   "outputs": [
    {
     "data": {
      "text/plain": [
       "Number_of_Vehicles\n",
       "2    412\n",
       "1    383\n",
       "3     59\n",
       "4     20\n",
       "5      4\n",
       "Name: count, dtype: int64"
      ]
     },
     "execution_count": 62,
     "metadata": {},
     "output_type": "execute_result"
    }
   ],
   "source": [
    "sh['Number_of_Vehicles'].value_counts().nlargest(5)"
   ]
  },
  {
   "cell_type": "markdown",
   "id": "344667b5-0b39-470f-831a-aeee421e094d",
   "metadata": {},
   "source": [
    "<h2>Insight #10</h2>\n",
    "<h3>As shown in the data no, the number of vehicles involved increase under specific weather conditions. Just like in the data above most accidents happen with 2 number of vehicles in the fine no high winds weather, just like the other result, it's always the 2 number of vehicles has the highest rate. </h3>"
   ]
  },
  {
   "cell_type": "markdown",
   "id": "7bee2a32-6257-4df9-854d-2f545222a909",
   "metadata": {
    "jp-MarkdownHeadingCollapsed": true
   },
   "source": [
    "<h1>11# Which road surface conditions lead to the highest number of casualties?</h1>"
   ]
  },
  {
   "cell_type": "code",
   "execution_count": 63,
   "id": "8d25138d-4efb-47fe-b29a-b581689f7f72",
   "metadata": {},
   "outputs": [
    {
     "data": {
      "text/plain": [
       "Number_of_Casualties\n",
       "1     504041\n",
       "2     107971\n",
       "3      30776\n",
       "4      11156\n",
       "5       4123\n",
       "6       1525\n",
       "7        539\n",
       "8        214\n",
       "9        112\n",
       "10        58\n",
       "11        36\n",
       "13        24\n",
       "12        21\n",
       "14        13\n",
       "15        11\n",
       "17         8\n",
       "19         7\n",
       "16         7\n",
       "18         6\n",
       "22         5\n",
       "21         4\n",
       "29         3\n",
       "40         2\n",
       "28         2\n",
       "24         2\n",
       "27         2\n",
       "42         2\n",
       "25         1\n",
       "32         1\n",
       "68         1\n",
       "45         1\n",
       "62         1\n",
       "47         1\n",
       "48         1\n",
       "26         1\n",
       "43         1\n",
       "Name: count, dtype: int64"
      ]
     },
     "execution_count": 63,
     "metadata": {},
     "output_type": "execute_result"
    }
   ],
   "source": [
    "accidents['Number_of_Casualties'].value_counts()"
   ]
  },
  {
   "cell_type": "code",
   "execution_count": 64,
   "id": "22da9b3c-b998-4bb8-8f3d-8dbf98e28543",
   "metadata": {},
   "outputs": [
    {
     "data": {
      "text/plain": [
       "Road_Surface_Conditions\n",
       "Dry                     448547\n",
       "Wet or damp             186708\n",
       "Frost or ice             18517\n",
       "Snow                      5890\n",
       "Flood over 3cm. deep      1017\n",
       "Name: count, dtype: int64"
      ]
     },
     "execution_count": 64,
     "metadata": {},
     "output_type": "execute_result"
    }
   ],
   "source": [
    "accidents['Road_Surface_Conditions'].value_counts()"
   ]
  },
  {
   "cell_type": "code",
   "execution_count": 65,
   "id": "80724137-b738-439a-8e53-c40185f41561",
   "metadata": {},
   "outputs": [],
   "source": [
    "dc = accidents[accidents['Road_Surface_Conditions']=='Dry']\n",
    "wc = accidents[accidents['Road_Surface_Conditions']=='Wet or damp']\n",
    "frc = accidents[accidents['Road_Surface_Conditions']=='Frost or ice']\n",
    "sc = accidents[accidents['Road_Surface_Conditions']=='Snow']\n",
    "flc = accidents[accidents['Road_Surface_Conditions']=='Flood over 3cm. deep']"
   ]
  },
  {
   "cell_type": "code",
   "execution_count": 66,
   "id": "db416f4d-567a-422c-be63-bf15b4238d4c",
   "metadata": {},
   "outputs": [
    {
     "data": {
      "text/plain": [
       "Number_of_Casualties\n",
       "1    348438\n",
       "2     69527\n",
       "3     19282\n",
       "4      7020\n",
       "5      2593\n",
       "Name: count, dtype: int64"
      ]
     },
     "execution_count": 66,
     "metadata": {},
     "output_type": "execute_result"
    }
   ],
   "source": [
    "dc['Number_of_Casualties'].value_counts().nlargest(5)"
   ]
  },
  {
   "cell_type": "code",
   "execution_count": 67,
   "id": "6511c1da-352f-4c14-b48a-b500cef820c4",
   "metadata": {},
   "outputs": [
    {
     "data": {
      "text/plain": [
       "Number_of_Casualties\n",
       "1    136389\n",
       "2     34013\n",
       "3     10352\n",
       "4      3736\n",
       "5      1380\n",
       "Name: count, dtype: int64"
      ]
     },
     "execution_count": 67,
     "metadata": {},
     "output_type": "execute_result"
    }
   ],
   "source": [
    "wc['Number_of_Casualties'].value_counts().nlargest(5)"
   ]
  },
  {
   "cell_type": "code",
   "execution_count": 68,
   "id": "47ef3b85-27cd-4e57-8bd4-e10baee12259",
   "metadata": {},
   "outputs": [
    {
     "data": {
      "text/plain": [
       "Number_of_Casualties\n",
       "1    14098\n",
       "2     3169\n",
       "3      793\n",
       "4      289\n",
       "5      108\n",
       "Name: count, dtype: int64"
      ]
     },
     "execution_count": 68,
     "metadata": {},
     "output_type": "execute_result"
    }
   ],
   "source": [
    "frc['Number_of_Casualties'].value_counts().nlargest(5)"
   ]
  },
  {
   "cell_type": "code",
   "execution_count": 69,
   "id": "0f72a012-2b97-4e00-820b-cd46793808f5",
   "metadata": {},
   "outputs": [
    {
     "data": {
      "text/plain": [
       "Number_of_Casualties\n",
       "1    4407\n",
       "2    1060\n",
       "3     289\n",
       "4      92\n",
       "5      25\n",
       "Name: count, dtype: int64"
      ]
     },
     "execution_count": 69,
     "metadata": {},
     "output_type": "execute_result"
    }
   ],
   "source": [
    "sc['Number_of_Casualties'].value_counts().nlargest(5)"
   ]
  },
  {
   "cell_type": "code",
   "execution_count": 70,
   "id": "343210eb-5e73-404e-bd62-e9bd1b74aec2",
   "metadata": {},
   "outputs": [
    {
     "data": {
      "text/plain": [
       "Number_of_Casualties\n",
       "1    709\n",
       "2    202\n",
       "3     60\n",
       "4     19\n",
       "5     17\n",
       "Name: count, dtype: int64"
      ]
     },
     "execution_count": 70,
     "metadata": {},
     "output_type": "execute_result"
    }
   ],
   "source": [
    "flc['Number_of_Casualties'].value_counts().nlargest(5)"
   ]
  },
  {
   "cell_type": "markdown",
   "id": "9569c995-5516-4fe3-84a1-4c0da2b95373",
   "metadata": {},
   "source": [
    "<h2>Insight #11</h2>\n",
    "<h3>The Road Surface that lead to highest number of casualties is the Dry Road Surface Conditions with 448,547 cases. This proves that it's not the bad road conditions causes high number of casualties. </h3>"
   ]
  },
  {
   "cell_type": "markdown",
   "id": "bca849d2-95a3-45cc-9949-38e4c614512b",
   "metadata": {
    "jp-MarkdownHeadingCollapsed": true
   },
   "source": [
    "<h1>12# Are accidents more common in poor weather conditions (e.g., fog, rain)?</h1>"
   ]
  },
  {
   "cell_type": "code",
   "execution_count": 71,
   "id": "45ab36db-351d-4ebd-94f5-d880ff71eff9",
   "metadata": {},
   "outputs": [
    {
     "data": {
      "text/plain": [
       "Weather_Conditions\n",
       "Fine no high winds       520885\n",
       "Raining no high winds     79696\n",
       "Other                     17150\n",
       "unaccounted               14128\n",
       "Raining + high winds       9615\n",
       "Fine + high winds          8554\n",
       "Snowing no high winds      6238\n",
       "Fog or mist                3528\n",
       "Snowing + high winds        885\n",
       "Name: count, dtype: int64"
      ]
     },
     "execution_count": 71,
     "metadata": {},
     "output_type": "execute_result"
    }
   ],
   "source": [
    "accidents['Weather_Conditions'].value_counts()"
   ]
  },
  {
   "cell_type": "markdown",
   "id": "7f8535c7-50a2-468f-8820-8d3bfa4b1136",
   "metadata": {},
   "source": [
    "<h2>Insight #12</h2>\n",
    "<h3>No, as Shown in this result, the accidents are more common in Good Weather Conditions. This resolve the thinking of the people that the accidents are more common on poor weather conditions.</h3>"
   ]
  },
  {
   "cell_type": "markdown",
   "id": "fd27c74d-b5e3-402a-bc74-51a1c653c14c",
   "metadata": {
    "jp-MarkdownHeadingCollapsed": true
   },
   "source": [
    "<h1>13# Do more accidents occur in daylight or under artificial lighting?</h1>"
   ]
  },
  {
   "cell_type": "code",
   "execution_count": 72,
   "id": "cb6c669f-96de-4a06-9e8c-7633c6afe6a3",
   "metadata": {},
   "outputs": [
    {
     "data": {
      "text/plain": [
       "Light_Conditions\n",
       "Daylight                       484880\n",
       "Darkness - lights lit          129335\n",
       "Darkness - no lighting          37437\n",
       "Darkness - lighting unknown      6484\n",
       "Darkness - lights unlit          2543\n",
       "Name: count, dtype: int64"
      ]
     },
     "execution_count": 72,
     "metadata": {},
     "output_type": "execute_result"
    }
   ],
   "source": [
    "accidents['Light_Conditions'].value_counts()"
   ]
  },
  {
   "cell_type": "code",
   "execution_count": 73,
   "id": "f53aaf92-6cb1-41f7-b4bb-0c0bf4ccfb8b",
   "metadata": {},
   "outputs": [
    {
     "data": {
      "text/plain": [
       "'Daylight'"
      ]
     },
     "execution_count": 73,
     "metadata": {},
     "output_type": "execute_result"
    }
   ],
   "source": [
    "accidents['Light_Conditions'].value_counts().idxmax()"
   ]
  },
  {
   "cell_type": "markdown",
   "id": "b00060d6-2c70-4f06-b86e-6ce72d58d116",
   "metadata": {},
   "source": [
    "<h2>Insight #13</h2>\n",
    "<h3> In this question, accidents do more occur in daylight than under artificial lighting, this answers the thinking of the people that most accidents occur in darkness or under artificial lighting. </h3>"
   ]
  },
  {
   "cell_type": "markdown",
   "id": "e7622281-aebb-4119-86ce-c2baaa83a7fd",
   "metadata": {
    "jp-MarkdownHeadingCollapsed": true
   },
   "source": [
    "<h1>14# Which Vehicle in Urban And Rural Area are most likely to have accident and Casualties involve?</h1>"
   ]
  },
  {
   "cell_type": "code",
   "execution_count": 74,
   "id": "e5a524de-006b-4eca-83b4-6f158c4d8ba3",
   "metadata": {},
   "outputs": [
    {
     "data": {
      "text/plain": [
       "Vehicle_Type\n",
       "Car                                      497992\n",
       "Van / Goods 3.5 tonnes mgw or under       34160\n",
       "Bus or coach (17 or more pass seats)      25878\n",
       "Motorcycle over 500cc                     25657\n",
       "Goods 7.5 tonnes mgw and over             17307\n",
       "Motorcycle 125cc and under                15269\n",
       "Taxi/Private hire car                     13294\n",
       "Motorcycle over 125cc and up to 500cc      7656\n",
       "Motorcycle 50cc and under                  7603\n",
       "Goods over 3.5t. and under 7.5t            6096\n",
       "Other vehicle                              5637\n",
       "Minibus (8 - 16 passenger seats)           1976\n",
       "Agricultural vehicle                       1947\n",
       "Pedal cycle                                 197\n",
       "Data missing or out of range                  6\n",
       "Ridden horse                                  4\n",
       "Name: count, dtype: int64"
      ]
     },
     "execution_count": 74,
     "metadata": {},
     "output_type": "execute_result"
    }
   ],
   "source": [
    "accidents['Vehicle_Type'].value_counts()"
   ]
  },
  {
   "cell_type": "code",
   "execution_count": 75,
   "id": "63468f46-24f6-4ef9-b906-f3d01450f03e",
   "metadata": {},
   "outputs": [],
   "source": [
    "ur = accidents[accidents['Urban_or_Rural_Area']=='Urban']\n",
    "ru = accidents[accidents['Urban_or_Rural_Area']=='Rural']"
   ]
  },
  {
   "cell_type": "code",
   "execution_count": 76,
   "id": "0ed8d156-0f1c-4b11-a503-5c9cefedde81",
   "metadata": {},
   "outputs": [
    {
     "data": {
      "text/plain": [
       "('Minibus (8 - 16 passenger seats)', 'Fatal')"
      ]
     },
     "execution_count": 76,
     "metadata": {},
     "output_type": "execute_result"
    }
   ],
   "source": [
    "ru.groupby(['Vehicle_Type','Accident_Severity'])['Number_of_Casualties'].mean().idxmax()"
   ]
  },
  {
   "cell_type": "code",
   "execution_count": 77,
   "id": "1c1bca44-97a2-4535-aae9-2b83022ea7c3",
   "metadata": {},
   "outputs": [
    {
     "data": {
      "text/plain": [
       "('Goods over 3.5t. and under 7.5t', 'Fatal')"
      ]
     },
     "execution_count": 77,
     "metadata": {},
     "output_type": "execute_result"
    }
   ],
   "source": [
    "ur.groupby(['Vehicle_Type','Accident_Severity'])['Number_of_Casualties'].mean().idxmax()"
   ]
  },
  {
   "cell_type": "markdown",
   "id": "38815adf-d9a8-47c2-a5b9-5fd0356172e3",
   "metadata": {},
   "source": [
    "<h2>Insight #14</h2>\n",
    "<h3>In rural area, the vehicle that most likely to have an accident and casualties involve is the minibus which has a capacity of 8-16 passenger. And in urban area, the vehicle that most likely to have an accident and casualties involve is the Goods over 3.5t. and under 7.5t. </h3>"
   ]
  },
  {
   "cell_type": "markdown",
   "id": "e2957017-b0b0-4c2f-a8ff-1dadf7a256eb",
   "metadata": {
    "jp-MarkdownHeadingCollapsed": true
   },
   "source": [
    "<h1>15# Are nighttime accidents more severe compared to daytime accidents?</h1>"
   ]
  },
  {
   "cell_type": "code",
   "execution_count": 78,
   "id": "49d251df-b48a-4c7b-9acb-92bee0cb2811",
   "metadata": {},
   "outputs": [
    {
     "data": {
      "text/plain": [
       "Accident_Severity\n",
       "Slight     563801\n",
       "Serious     88217\n",
       "Fatal        8661\n",
       "Name: count, dtype: int64"
      ]
     },
     "execution_count": 78,
     "metadata": {},
     "output_type": "execute_result"
    }
   ],
   "source": [
    "accidents['Accident_Severity'].value_counts()"
   ]
  },
  {
   "cell_type": "code",
   "execution_count": 79,
   "id": "e463b2b8",
   "metadata": {},
   "outputs": [
    {
     "data": {
      "text/plain": [
       "Light_Conditions\n",
       "Daylight                       484880\n",
       "Darkness - lights lit          129335\n",
       "Darkness - no lighting          37437\n",
       "Darkness - lighting unknown      6484\n",
       "Darkness - lights unlit          2543\n",
       "Name: count, dtype: int64"
      ]
     },
     "execution_count": 79,
     "metadata": {},
     "output_type": "execute_result"
    }
   ],
   "source": [
    "accidents['Light_Conditions'].value_counts()"
   ]
  },
  {
   "cell_type": "code",
   "execution_count": 80,
   "id": "a720ca3d",
   "metadata": {},
   "outputs": [],
   "source": [
    "Ft_lc = accidents[accidents['Accident_Severity']=='Fatal']\n",
    "Sr_lc = accidents[accidents['Accident_Severity']=='Serious']\n",
    "Sl_lc = accidents[accidents['Accident_Severity']=='Slight']"
   ]
  },
  {
   "cell_type": "code",
   "execution_count": 81,
   "id": "f0a556cd-69d6-4eaf-bc24-0459ddb37fbc",
   "metadata": {
    "scrolled": true
   },
   "outputs": [
    {
     "data": {
      "text/plain": [
       "Light_Conditions\n",
       "Daylight                       5076\n",
       "Darkness - lights lit          1860\n",
       "Darkness - no lighting         1612\n",
       "Darkness - lighting unknown      68\n",
       "Darkness - lights unlit          45\n",
       "Name: count, dtype: int64"
      ]
     },
     "execution_count": 81,
     "metadata": {},
     "output_type": "execute_result"
    }
   ],
   "source": [
    "Ft_lc['Light_Conditions'].value_counts().nlargest(5)"
   ]
  },
  {
   "cell_type": "code",
   "execution_count": 82,
   "id": "f96d7fa9-9fdb-4d54-bfc1-f1db9f38824a",
   "metadata": {
    "scrolled": true
   },
   "outputs": [
    {
     "data": {
      "text/plain": [
       "Light_Conditions\n",
       "Daylight                       60759\n",
       "Darkness - lights lit          19130\n",
       "Darkness - no lighting          7174\n",
       "Darkness - lighting unknown      794\n",
       "Darkness - lights unlit          360\n",
       "Name: count, dtype: int64"
      ]
     },
     "execution_count": 82,
     "metadata": {},
     "output_type": "execute_result"
    }
   ],
   "source": [
    "Sr_lc['Light_Conditions'].value_counts().nlargest(5)"
   ]
  },
  {
   "cell_type": "code",
   "execution_count": 83,
   "id": "31023c5d-c365-497a-9957-cd0c4e9c1085",
   "metadata": {
    "scrolled": true
   },
   "outputs": [
    {
     "data": {
      "text/plain": [
       "Light_Conditions\n",
       "Daylight                       419045\n",
       "Darkness - lights lit          108345\n",
       "Darkness - no lighting          28651\n",
       "Darkness - lighting unknown      5622\n",
       "Darkness - lights unlit          2138\n",
       "Name: count, dtype: int64"
      ]
     },
     "execution_count": 83,
     "metadata": {},
     "output_type": "execute_result"
    }
   ],
   "source": [
    "Sl_lc['Light_Conditions'].value_counts().nlargest(5)"
   ]
  },
  {
   "cell_type": "markdown",
   "id": "4c1a0089-7c7a-4657-9009-ae8800eef18a",
   "metadata": {},
   "source": [
    "<h2>Insight #15</h2>\n",
    "<h3>No, as shown in the data, Daylight accidents are more severe than nighttime accidents. You can see that in the 3 types of accident severity, the daylight has the most accident rate. </h3>"
   ]
  },
  {
   "cell_type": "markdown",
   "id": "0dae54a2-ee58-421b-9766-3f03f2f4996f",
   "metadata": {
    "jp-MarkdownHeadingCollapsed": true
   },
   "source": [
    "<h1>16# Which Vehicle cause most, Fatal accident, Serious accident and Slight accident?</h1>"
   ]
  },
  {
   "cell_type": "code",
   "execution_count": 84,
   "id": "5d0347ad-16aa-4cf8-96c1-7ef08f0afebc",
   "metadata": {},
   "outputs": [],
   "source": [
    "Ftv = accidents[accidents['Accident_Severity']=='Fatal']\n",
    "Srv = accidents[accidents['Accident_Severity']=='Serious']\n",
    "Slv = accidents[accidents['Accident_Severity']=='Slight']"
   ]
  },
  {
   "cell_type": "code",
   "execution_count": 85,
   "id": "878087c7-bc40-46d3-ae55-fb3c92d2d4da",
   "metadata": {},
   "outputs": [
    {
     "data": {
      "text/plain": [
       "Vehicle_Type\n",
       "Car                                     6577\n",
       "Van / Goods 3.5 tonnes mgw or under      467\n",
       "Motorcycle over 500cc                    339\n",
       "Bus or coach (17 or more pass seats)     325\n",
       "Goods 7.5 tonnes mgw and over            216\n",
       "Name: count, dtype: int64"
      ]
     },
     "execution_count": 85,
     "metadata": {},
     "output_type": "execute_result"
    }
   ],
   "source": [
    "Ftv ['Vehicle_Type'].value_counts().nlargest(5)"
   ]
  },
  {
   "cell_type": "code",
   "execution_count": 86,
   "id": "2dfe3e7b-bd01-4617-8744-33b6b80f6955",
   "metadata": {},
   "outputs": [
    {
     "data": {
      "text/plain": [
       "Vehicle_Type\n",
       "Car                                     66461\n",
       "Van / Goods 3.5 tonnes mgw or under      4554\n",
       "Motorcycle over 500cc                    3457\n",
       "Bus or coach (17 or more pass seats)     3373\n",
       "Goods 7.5 tonnes mgw and over            2321\n",
       "Name: count, dtype: int64"
      ]
     },
     "execution_count": 86,
     "metadata": {},
     "output_type": "execute_result"
    }
   ],
   "source": [
    "Srv ['Vehicle_Type'].value_counts().nlargest(5)"
   ]
  },
  {
   "cell_type": "code",
   "execution_count": 87,
   "id": "f5865bbb-8e73-4575-89c0-05541062121f",
   "metadata": {},
   "outputs": [
    {
     "data": {
      "text/plain": [
       "Vehicle_Type\n",
       "Car                                     424954\n",
       "Van / Goods 3.5 tonnes mgw or under      29139\n",
       "Bus or coach (17 or more pass seats)     22180\n",
       "Motorcycle over 500cc                    21861\n",
       "Goods 7.5 tonnes mgw and over            14770\n",
       "Name: count, dtype: int64"
      ]
     },
     "execution_count": 87,
     "metadata": {},
     "output_type": "execute_result"
    }
   ],
   "source": [
    "Slv ['Vehicle_Type'].value_counts().nlargest(5)"
   ]
  },
  {
   "cell_type": "markdown",
   "id": "69da8fba-312a-4fc0-b7f2-8c103ce83c9b",
   "metadata": {},
   "source": [
    "<h2>Insight #16</h2>\n",
    "<h3>As we see on the data, that the Vehicle type that has the highest accident severity whether it is Serios, Fatal, or Slight. This Shows that in United Kingdom accidents are more on Cars involved.</h3>"
   ]
  },
  {
   "cell_type": "markdown",
   "id": "e67d0842-560e-46b3-b61c-ef3f3d33b795",
   "metadata": {
    "jp-MarkdownHeadingCollapsed": true
   },
   "source": [
    "<h1>17# How does the number of vehicles involved in an accident vary based on road type?</h1>"
   ]
  },
  {
   "cell_type": "code",
   "execution_count": 88,
   "id": "f10b4da9-5f8c-4d89-9bd8-b51861344239",
   "metadata": {},
   "outputs": [
    {
     "data": {
      "text/plain": [
       "Road_Type\n",
       "Single carriageway    492143\n",
       "Dual carriageway       99424\n",
       "Roundabout             43992\n",
       "One way street         13559\n",
       "Slip road               7041\n",
       "unknown                 4520\n",
       "Name: count, dtype: int64"
      ]
     },
     "execution_count": 88,
     "metadata": {},
     "output_type": "execute_result"
    }
   ],
   "source": [
    "accidents['Road_Type'].value_counts()"
   ]
  },
  {
   "cell_type": "code",
   "execution_count": 89,
   "id": "e3fc18b3-bb17-45ed-a68e-093c9118972c",
   "metadata": {},
   "outputs": [],
   "source": [
    "scrt = accidents[accidents['Road_Type']=='Single carriageway']\n",
    "dcrt = accidents[accidents['Road_Type']=='Dual carriageway']\n",
    "rrt = accidents[accidents['Road_Type']=='Roundabout']\n",
    "owrt = accidents[accidents['Road_Type']=='One way street']\n",
    "srrt = accidents[accidents['Road_Type']=='Slip road']\n",
    "urt = accidents[accidents['Road_Type']=='unknown']"
   ]
  },
  {
   "cell_type": "code",
   "execution_count": 90,
   "id": "e60c21df-25e9-4df4-b9f4-2d6b148bbc26",
   "metadata": {},
   "outputs": [
    {
     "data": {
      "text/plain": [
       "Number_of_Vehicles\n",
       "2    287745\n",
       "1    158224\n",
       "3     37157\n",
       "4      7206\n",
       "5      1305\n",
       "Name: count, dtype: int64"
      ]
     },
     "execution_count": 90,
     "metadata": {},
     "output_type": "execute_result"
    }
   ],
   "source": [
    "scrt['Number_of_Vehicles'].value_counts().nlargest(5)"
   ]
  },
  {
   "cell_type": "code",
   "execution_count": 91,
   "id": "fb5c9220-c9fd-4c85-b5ac-594c23e227b5",
   "metadata": {},
   "outputs": [
    {
     "data": {
      "text/plain": [
       "Number_of_Vehicles\n",
       "2    56455\n",
       "1    25413\n",
       "3    12185\n",
       "4     3559\n",
       "5     1046\n",
       "Name: count, dtype: int64"
      ]
     },
     "execution_count": 91,
     "metadata": {},
     "output_type": "execute_result"
    }
   ],
   "source": [
    "dcrt['Number_of_Vehicles'].value_counts().nlargest(5)"
   ]
  },
  {
   "cell_type": "code",
   "execution_count": 92,
   "id": "5ef68bd8-4fc9-4299-ac27-be881cea6a6b",
   "metadata": {},
   "outputs": [
    {
     "data": {
      "text/plain": [
       "Number_of_Vehicles\n",
       "2    34971\n",
       "1     6836\n",
       "3     1935\n",
       "4      205\n",
       "5       32\n",
       "Name: count, dtype: int64"
      ]
     },
     "execution_count": 92,
     "metadata": {},
     "output_type": "execute_result"
    }
   ],
   "source": [
    "rrt['Number_of_Vehicles'].value_counts().nlargest(5)"
   ]
  },
  {
   "cell_type": "code",
   "execution_count": 93,
   "id": "9fafd187-da5f-4d09-a5b9-979b2f70a86b",
   "metadata": {},
   "outputs": [
    {
     "data": {
      "text/plain": [
       "Number_of_Vehicles\n",
       "1    6598\n",
       "2    6193\n",
       "3     623\n",
       "4     107\n",
       "5      24\n",
       "Name: count, dtype: int64"
      ]
     },
     "execution_count": 93,
     "metadata": {},
     "output_type": "execute_result"
    }
   ],
   "source": [
    "owrt['Number_of_Vehicles'].value_counts().nlargest(5)"
   ]
  },
  {
   "cell_type": "code",
   "execution_count": 94,
   "id": "70099733-d897-44c8-9431-db22c4c74aff",
   "metadata": {},
   "outputs": [
    {
     "data": {
      "text/plain": [
       "Number_of_Vehicles\n",
       "2    4251\n",
       "1    1868\n",
       "3     679\n",
       "4     173\n",
       "5      44\n",
       "Name: count, dtype: int64"
      ]
     },
     "execution_count": 94,
     "metadata": {},
     "output_type": "execute_result"
    }
   ],
   "source": [
    "srrt['Number_of_Vehicles'].value_counts().nlargest(5)"
   ]
  },
  {
   "cell_type": "code",
   "execution_count": 95,
   "id": "9ae786db-38c9-4a51-82f7-a97819689e7d",
   "metadata": {},
   "outputs": [
    {
     "data": {
      "text/plain": [
       "Number_of_Vehicles\n",
       "2    2380\n",
       "1    1848\n",
       "3     227\n",
       "4      50\n",
       "5      13\n",
       "Name: count, dtype: int64"
      ]
     },
     "execution_count": 95,
     "metadata": {},
     "output_type": "execute_result"
    }
   ],
   "source": [
    "urt['Number_of_Vehicles'].value_counts().nlargest(5)"
   ]
  },
  {
   "cell_type": "markdown",
   "id": "880e2f46-42ca-4796-8345-0ce849c4d6bf",
   "metadata": {},
   "source": [
    "<h2>Insight #17</h2>\n",
    "<h3> The number of vehicles involved in an accident can vary significantly based on the type of road due to factors such as speed limits, traffic density, road design, and driver behavior. However in this data we can see that most accidents occur in a single carraigeway and more of them is 2 vehicle only.</h3>"
   ]
  },
  {
   "cell_type": "markdown",
   "id": "b9555641-6118-475e-bafb-dd58d2917797",
   "metadata": {
    "jp-MarkdownHeadingCollapsed": true
   },
   "source": [
    "<h1>18# What road type is less likely and more likely to cause an accident?</h1>"
   ]
  },
  {
   "cell_type": "code",
   "execution_count": 96,
   "id": "0fe75fbf-95d9-4b6d-a706-e77930b18051",
   "metadata": {},
   "outputs": [
    {
     "data": {
      "text/plain": [
       "Road_Type\n",
       "Single carriageway    492143\n",
       "Dual carriageway       99424\n",
       "Roundabout             43992\n",
       "One way street         13559\n",
       "Slip road               7041\n",
       "unknown                 4520\n",
       "Name: count, dtype: int64"
      ]
     },
     "execution_count": 96,
     "metadata": {},
     "output_type": "execute_result"
    }
   ],
   "source": [
    "accidents['Road_Type'].value_counts()"
   ]
  },
  {
   "cell_type": "code",
   "execution_count": 97,
   "id": "361ba43e-4673-455a-ae5c-db394279fc8e",
   "metadata": {},
   "outputs": [
    {
     "data": {
      "text/html": [
       "<div>\n",
       "<style scoped>\n",
       "    .dataframe tbody tr th:only-of-type {\n",
       "        vertical-align: middle;\n",
       "    }\n",
       "\n",
       "    .dataframe tbody tr th {\n",
       "        vertical-align: top;\n",
       "    }\n",
       "\n",
       "    .dataframe thead th {\n",
       "        text-align: right;\n",
       "    }\n",
       "</style>\n",
       "<table border=\"1\" class=\"dataframe\">\n",
       "  <thead>\n",
       "    <tr style=\"text-align: right;\">\n",
       "      <th></th>\n",
       "      <th>Accident_Severity</th>\n",
       "      <th>Fatal</th>\n",
       "      <th>Serious</th>\n",
       "      <th>Slight</th>\n",
       "    </tr>\n",
       "    <tr>\n",
       "      <th>Road_Type</th>\n",
       "      <th>Road_Surface_Conditions</th>\n",
       "      <th></th>\n",
       "      <th></th>\n",
       "      <th></th>\n",
       "    </tr>\n",
       "  </thead>\n",
       "  <tbody>\n",
       "    <tr>\n",
       "      <th rowspan=\"5\" valign=\"top\">Dual carriageway</th>\n",
       "      <th>Dry</th>\n",
       "      <td>1217</td>\n",
       "      <td>8104</td>\n",
       "      <td>56951</td>\n",
       "    </tr>\n",
       "    <tr>\n",
       "      <th>Flood over 3cm. deep</th>\n",
       "      <td>5</td>\n",
       "      <td>42</td>\n",
       "      <td>255</td>\n",
       "    </tr>\n",
       "    <tr>\n",
       "      <th>Frost or ice</th>\n",
       "      <td>36</td>\n",
       "      <td>259</td>\n",
       "      <td>2113</td>\n",
       "    </tr>\n",
       "    <tr>\n",
       "      <th>Snow</th>\n",
       "      <td>6</td>\n",
       "      <td>108</td>\n",
       "      <td>795</td>\n",
       "    </tr>\n",
       "    <tr>\n",
       "      <th>Wet or damp</th>\n",
       "      <td>551</td>\n",
       "      <td>3233</td>\n",
       "      <td>25749</td>\n",
       "    </tr>\n",
       "    <tr>\n",
       "      <th rowspan=\"5\" valign=\"top\">One way street</th>\n",
       "      <th>Dry</th>\n",
       "      <td>74</td>\n",
       "      <td>1247</td>\n",
       "      <td>8779</td>\n",
       "    </tr>\n",
       "    <tr>\n",
       "      <th>Flood over 3cm. deep</th>\n",
       "      <td>0</td>\n",
       "      <td>3</td>\n",
       "      <td>2</td>\n",
       "    </tr>\n",
       "    <tr>\n",
       "      <th>Frost or ice</th>\n",
       "      <td>0</td>\n",
       "      <td>15</td>\n",
       "      <td>168</td>\n",
       "    </tr>\n",
       "    <tr>\n",
       "      <th>Snow</th>\n",
       "      <td>2</td>\n",
       "      <td>7</td>\n",
       "      <td>67</td>\n",
       "    </tr>\n",
       "    <tr>\n",
       "      <th>Wet or damp</th>\n",
       "      <td>19</td>\n",
       "      <td>383</td>\n",
       "      <td>2793</td>\n",
       "    </tr>\n",
       "    <tr>\n",
       "      <th rowspan=\"5\" valign=\"top\">Roundabout</th>\n",
       "      <th>Dry</th>\n",
       "      <td>110</td>\n",
       "      <td>2640</td>\n",
       "      <td>28034</td>\n",
       "    </tr>\n",
       "    <tr>\n",
       "      <th>Flood over 3cm. deep</th>\n",
       "      <td>0</td>\n",
       "      <td>2</td>\n",
       "      <td>20</td>\n",
       "    </tr>\n",
       "    <tr>\n",
       "      <th>Frost or ice</th>\n",
       "      <td>3</td>\n",
       "      <td>60</td>\n",
       "      <td>682</td>\n",
       "    </tr>\n",
       "    <tr>\n",
       "      <th>Snow</th>\n",
       "      <td>2</td>\n",
       "      <td>12</td>\n",
       "      <td>218</td>\n",
       "    </tr>\n",
       "    <tr>\n",
       "      <th>Wet or damp</th>\n",
       "      <td>27</td>\n",
       "      <td>951</td>\n",
       "      <td>11231</td>\n",
       "    </tr>\n",
       "    <tr>\n",
       "      <th rowspan=\"5\" valign=\"top\">Single carriageway</th>\n",
       "      <th>Dry</th>\n",
       "      <td>4338</td>\n",
       "      <td>48926</td>\n",
       "      <td>279961</td>\n",
       "    </tr>\n",
       "    <tr>\n",
       "      <th>Flood over 3cm. deep</th>\n",
       "      <td>18</td>\n",
       "      <td>103</td>\n",
       "      <td>551</td>\n",
       "    </tr>\n",
       "    <tr>\n",
       "      <th>Frost or ice</th>\n",
       "      <td>153</td>\n",
       "      <td>1651</td>\n",
       "      <td>13114</td>\n",
       "    </tr>\n",
       "    <tr>\n",
       "      <th>Snow</th>\n",
       "      <td>25</td>\n",
       "      <td>427</td>\n",
       "      <td>4133</td>\n",
       "    </tr>\n",
       "    <tr>\n",
       "      <th>Wet or damp</th>\n",
       "      <td>1993</td>\n",
       "      <td>18952</td>\n",
       "      <td>117798</td>\n",
       "    </tr>\n",
       "    <tr>\n",
       "      <th rowspan=\"5\" valign=\"top\">Slip road</th>\n",
       "      <th>Dry</th>\n",
       "      <td>30</td>\n",
       "      <td>419</td>\n",
       "      <td>4271</td>\n",
       "    </tr>\n",
       "    <tr>\n",
       "      <th>Flood over 3cm. deep</th>\n",
       "      <td>0</td>\n",
       "      <td>1</td>\n",
       "      <td>8</td>\n",
       "    </tr>\n",
       "    <tr>\n",
       "      <th>Frost or ice</th>\n",
       "      <td>1</td>\n",
       "      <td>15</td>\n",
       "      <td>162</td>\n",
       "    </tr>\n",
       "    <tr>\n",
       "      <th>Snow</th>\n",
       "      <td>0</td>\n",
       "      <td>9</td>\n",
       "      <td>51</td>\n",
       "    </tr>\n",
       "    <tr>\n",
       "      <th>Wet or damp</th>\n",
       "      <td>18</td>\n",
       "      <td>167</td>\n",
       "      <td>1889</td>\n",
       "    </tr>\n",
       "    <tr>\n",
       "      <th rowspan=\"5\" valign=\"top\">unknown</th>\n",
       "      <th>Dry</th>\n",
       "      <td>21</td>\n",
       "      <td>372</td>\n",
       "      <td>3053</td>\n",
       "    </tr>\n",
       "    <tr>\n",
       "      <th>Flood over 3cm. deep</th>\n",
       "      <td>0</td>\n",
       "      <td>1</td>\n",
       "      <td>6</td>\n",
       "    </tr>\n",
       "    <tr>\n",
       "      <th>Frost or ice</th>\n",
       "      <td>0</td>\n",
       "      <td>7</td>\n",
       "      <td>78</td>\n",
       "    </tr>\n",
       "    <tr>\n",
       "      <th>Snow</th>\n",
       "      <td>0</td>\n",
       "      <td>2</td>\n",
       "      <td>26</td>\n",
       "    </tr>\n",
       "    <tr>\n",
       "      <th>Wet or damp</th>\n",
       "      <td>12</td>\n",
       "      <td>99</td>\n",
       "      <td>843</td>\n",
       "    </tr>\n",
       "  </tbody>\n",
       "</table>\n",
       "</div>"
      ],
      "text/plain": [
       "Accident_Severity                           Fatal  Serious  Slight\n",
       "Road_Type          Road_Surface_Conditions                        \n",
       "Dual carriageway   Dry                       1217     8104   56951\n",
       "                   Flood over 3cm. deep         5       42     255\n",
       "                   Frost or ice                36      259    2113\n",
       "                   Snow                         6      108     795\n",
       "                   Wet or damp                551     3233   25749\n",
       "One way street     Dry                         74     1247    8779\n",
       "                   Flood over 3cm. deep         0        3       2\n",
       "                   Frost or ice                 0       15     168\n",
       "                   Snow                         2        7      67\n",
       "                   Wet or damp                 19      383    2793\n",
       "Roundabout         Dry                        110     2640   28034\n",
       "                   Flood over 3cm. deep         0        2      20\n",
       "                   Frost or ice                 3       60     682\n",
       "                   Snow                         2       12     218\n",
       "                   Wet or damp                 27      951   11231\n",
       "Single carriageway Dry                       4338    48926  279961\n",
       "                   Flood over 3cm. deep        18      103     551\n",
       "                   Frost or ice               153     1651   13114\n",
       "                   Snow                        25      427    4133\n",
       "                   Wet or damp               1993    18952  117798\n",
       "Slip road          Dry                         30      419    4271\n",
       "                   Flood over 3cm. deep         0        1       8\n",
       "                   Frost or ice                 1       15     162\n",
       "                   Snow                         0        9      51\n",
       "                   Wet or damp                 18      167    1889\n",
       "unknown            Dry                         21      372    3053\n",
       "                   Flood over 3cm. deep         0        1       6\n",
       "                   Frost or ice                 0        7      78\n",
       "                   Snow                         0        2      26\n",
       "                   Wet or damp                 12       99     843"
      ]
     },
     "execution_count": 97,
     "metadata": {},
     "output_type": "execute_result"
    }
   ],
   "source": [
    "ra = accidents.groupby([ 'Road_Type', 'Road_Surface_Conditions','Accident_Severity']).size()\n",
    "ra.unstack()"
   ]
  },
  {
   "cell_type": "code",
   "execution_count": 98,
   "id": "cae76ff2-e675-410b-a91c-e0d96feb12b9",
   "metadata": {},
   "outputs": [
    {
     "data": {
      "text/plain": [
       "('Single carriageway', 'Dry', 'Slight')"
      ]
     },
     "execution_count": 98,
     "metadata": {},
     "output_type": "execute_result"
    }
   ],
   "source": [
    "ra.idxmax()"
   ]
  },
  {
   "cell_type": "code",
   "execution_count": 99,
   "id": "29e42b23-9b18-4d9a-a27b-59030218267a",
   "metadata": {},
   "outputs": [
    {
     "data": {
      "text/plain": [
       "('One way street', 'Flood over 3cm. deep', 'Fatal')"
      ]
     },
     "execution_count": 99,
     "metadata": {},
     "output_type": "execute_result"
    }
   ],
   "source": [
    "ra.idxmin()"
   ]
  },
  {
   "cell_type": "markdown",
   "id": "179e28fb-4219-4425-b6cb-92627a9f386c",
   "metadata": {},
   "source": [
    "<h2>Insight #18</h2>\n",
    "<h3>The Road Type that most likely to cause an accidents is the ('Single carriageway', 'Dry', 'Slight'). And the Road Type that less likely to cause an accidents is ('One way street', 'Flood over 3cm. deep', 'Fatal').  </h3>"
   ]
  },
  {
   "cell_type": "markdown",
   "id": "9e2b0654-733c-4c75-a362-0a6bb7035f22",
   "metadata": {
    "jp-MarkdownHeadingCollapsed": true
   },
   "source": [
    "<h1>19# What Road type is less likely and more likely to cause casualties?</h1>\n"
   ]
  },
  {
   "cell_type": "code",
   "execution_count": 100,
   "id": "13e685a0-ab15-4a35-a0c8-ee1aa0b1a2cd",
   "metadata": {},
   "outputs": [
    {
     "data": {
      "text/plain": [
       "Road_Type\n",
       "Dual carriageway      1.477279\n",
       "One way street        1.192713\n",
       "Roundabout            1.274891\n",
       "Single carriageway    1.344666\n",
       "Slip road             1.423661\n",
       "unknown               1.248230\n",
       "Name: Number_of_Casualties, dtype: float64"
      ]
     },
     "execution_count": 100,
     "metadata": {},
     "output_type": "execute_result"
    }
   ],
   "source": [
    "accidents.groupby('Road_Type')['Number_of_Casualties'].mean()"
   ]
  },
  {
   "cell_type": "code",
   "execution_count": 101,
   "id": "85bff132-6538-4c14-9a46-0b45c592e4bc",
   "metadata": {},
   "outputs": [
    {
     "data": {
      "text/plain": [
       "'Dual carriageway'"
      ]
     },
     "execution_count": 101,
     "metadata": {},
     "output_type": "execute_result"
    }
   ],
   "source": [
    "accidents.groupby('Road_Type')['Number_of_Casualties'].mean().idxmax()"
   ]
  },
  {
   "cell_type": "code",
   "execution_count": 102,
   "id": "ec48090c-32aa-4655-9874-519729ee3cf5",
   "metadata": {},
   "outputs": [
    {
     "data": {
      "text/plain": [
       "'One way street'"
      ]
     },
     "execution_count": 102,
     "metadata": {},
     "output_type": "execute_result"
    }
   ],
   "source": [
    "accidents.groupby('Road_Type')['Number_of_Casualties'].mean().idxmin()"
   ]
  },
  {
   "cell_type": "markdown",
   "id": "aacfb0ba-6f95-4f6e-9d43-57dd2eb72a95",
   "metadata": {},
   "source": [
    "<h2>Insight #19</h2>\n",
    "<h3>As we see in this data, the road type that most likely to cause casualties is the Dual Carriage road type. And the road type that less likely to cause casualties  is the One way street road type . </h3>"
   ]
  },
  {
   "cell_type": "markdown",
   "id": "95b21d57-30fc-4933-8b68-7a592faef7c6",
   "metadata": {
    "jp-MarkdownHeadingCollapsed": true
   },
   "source": [
    "<h1>20# What District Area has the most rate and the least rate in terms of casualties ?</h1>\n"
   ]
  },
  {
   "cell_type": "code",
   "execution_count": 107,
   "id": "7dd9e809-4e0c-417c-b0bd-df5eac9dd706",
   "metadata": {},
   "outputs": [
    {
     "data": {
      "text/plain": [
       "District Area\n",
       "Aberdeen City    1.139834\n",
       "Aberdeenshire    1.310363\n",
       "Adur             1.319871\n",
       "Allerdale        1.474291\n",
       "Alnwick          1.512931\n",
       "                   ...   \n",
       "Wychavon         1.427627\n",
       "Wycombe          1.412377\n",
       "Wyre             1.378029\n",
       "Wyre Forest      1.382869\n",
       "York             1.293094\n",
       "Name: Number_of_Casualties, Length: 422, dtype: float64"
      ]
     },
     "execution_count": 107,
     "metadata": {},
     "output_type": "execute_result"
    }
   ],
   "source": [
    "accidents.groupby('District Area')['Number_of_Casualties'].mean()"
   ]
  },
  {
   "cell_type": "code",
   "execution_count": 108,
   "id": "633892ee-7795-490a-a91a-9fd5358c58df",
   "metadata": {},
   "outputs": [
    {
     "data": {
      "text/plain": [
       "'Blaeu Gwent'"
      ]
     },
     "execution_count": 108,
     "metadata": {},
     "output_type": "execute_result"
    }
   ],
   "source": [
    "accidents.groupby('District Area')['Number_of_Casualties'].mean().idxmax()"
   ]
  },
  {
   "cell_type": "code",
   "execution_count": 109,
   "id": "f191b116-9aeb-4532-8831-77eeac537e40",
   "metadata": {},
   "outputs": [
    {
     "data": {
      "text/plain": [
       "'City of London'"
      ]
     },
     "execution_count": 109,
     "metadata": {},
     "output_type": "execute_result"
    }
   ],
   "source": [
    "accidents.groupby('District Area')['Number_of_Casualties'].mean().idxmin()"
   ]
  },
  {
   "cell_type": "markdown",
   "id": "410e65fe-1489-4372-9186-4df436f3c97f",
   "metadata": {},
   "source": [
    "<h2>Insight #20</h2>\n",
    "<h3>As we see in this data, the district area that most rate casualties is 'Blaeu Gwent'. And the district area that less rate casualties  is the 'City of London' . </h3>"
   ]
  }
 ],
 "metadata": {
  "kernelspec": {
   "display_name": "Python 3 (ipykernel)",
   "language": "python",
   "name": "python3"
  },
  "language_info": {
   "codemirror_mode": {
    "name": "ipython",
    "version": 3
   },
   "file_extension": ".py",
   "mimetype": "text/x-python",
   "name": "python",
   "nbconvert_exporter": "python",
   "pygments_lexer": "ipython3",
   "version": "3.12.9"
  }
 },
 "nbformat": 4,
 "nbformat_minor": 5
}
